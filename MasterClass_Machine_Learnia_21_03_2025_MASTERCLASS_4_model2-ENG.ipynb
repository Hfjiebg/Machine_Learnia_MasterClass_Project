{
 "cells": [
  {
   "cell_type": "markdown",
   "metadata": {},
   "source": [
    "# MASTERCLASS 4: ML Project: Predicting the health status of an individual\n",
    "### (Create an ML model in 1 hour)"
   ]
  },
  {
   "cell_type": "markdown",
   "metadata": {
    "id": "d-0Rrc4E0sjq"
   },
   "source": [
    "## Librairies"
   ]
  },
  {
   "cell_type": "code",
   "execution_count": 3,
   "metadata": {
    "id": "ZLcGf09f0kbs"
   },
   "outputs": [],
   "source": [
    "# File and data handling\n",
    "\n",
    "import os                          # Allows interaction with the operating system, for example to read files\n",
    "import pandas as pd                # Used to manipulate data in the form of tables (DataFrame)\n",
    "import numpy as np                 # Provides mathematical tools and multidimensional arrays\n",
    "\n",
    "# Data visualization\n",
    "\n",
    "import seaborn as sns              # for creating attractive statistical visualizations\n",
    "import matplotlib.pyplot as plt    # to plot graphs in Python\n",
    "\n",
    "# Machine Learning (Logistic Regression)\n",
    "\n",
    "# LogisticRegression: Classification model that predicts a probability of belonging to a class\n",
    "from sklearn.linear_model import LogisticRegression \n",
    "\n",
    "# Data preparation and cross-validation\n",
    "\n",
    "# train_test_split: Splits the data into training and test sets\n",
    "# cross_val_score: Evaluates the performance of a model with cross-validation\n",
    "from sklearn.model_selection import train_test_split, cross_val_score\n",
    "\n",
    "# Data preprocessing\n",
    "\n",
    "# StandardScaler: Normalizes data to prevent one variable from dominating the others\n",
    "# LabelEncoder: Converts categories to numeric values\n",
    "from sklearn.preprocessing import StandardScaler, LabelEncoder\n",
    "\n",
    "# Model evaluation\n",
    "\n",
    "# accuracy_score: Calculates the accuracy of a classification model\n",
    "# classification_report: Displays metrics such as precision and recall\n",
    "# ConfusionMatrixDisplay: Displays the confusion matrix\n",
    "from sklearn.metrics import accuracy_score, classification_report, ConfusionMatrixDisplay\n",
    "\n",
    "# r2_score, mean_absolute_error, mean_squared_error: Evaluation metrics for regression models\n",
    "from sklearn.metrics import r2_score, mean_absolute_error, mean_squared_error"
   ]
  },
  {
   "cell_type": "markdown",
   "metadata": {
    "id": "oym67N7F0vAS"
   },
   "source": [
    "# Import data"
   ]
  },
  {
   "cell_type": "markdown",
   "metadata": {},
   "source": [
    "- **Installing the Library: kagglehub**"
   ]
  },
  {
   "cell_type": "code",
   "execution_count": 6,
   "metadata": {},
   "outputs": [
    {
     "name": "stdout",
     "output_type": "stream",
     "text": [
      "Requirement already satisfied: kagglehub in c:\\users\\hp\\anaconda3\\lib\\site-packages (0.3.10)\n",
      "Requirement already satisfied: packaging in c:\\users\\hp\\anaconda3\\lib\\site-packages (from kagglehub) (24.2)\n",
      "Requirement already satisfied: pyyaml in c:\\users\\hp\\anaconda3\\lib\\site-packages (from kagglehub) (6.0.2)\n",
      "Requirement already satisfied: requests in c:\\users\\hp\\anaconda3\\lib\\site-packages (from kagglehub) (2.32.3)\n",
      "Requirement already satisfied: tqdm in c:\\users\\hp\\anaconda3\\lib\\site-packages (from kagglehub) (4.66.5)\n",
      "Requirement already satisfied: charset-normalizer<4,>=2 in c:\\users\\hp\\anaconda3\\lib\\site-packages (from requests->kagglehub) (3.3.2)\n",
      "Requirement already satisfied: idna<4,>=2.5 in c:\\users\\hp\\anaconda3\\lib\\site-packages (from requests->kagglehub) (3.7)\n",
      "Requirement already satisfied: urllib3<3,>=1.21.1 in c:\\users\\hp\\anaconda3\\lib\\site-packages (from requests->kagglehub) (2.2.3)\n",
      "Requirement already satisfied: certifi>=2017.4.17 in c:\\users\\hp\\anaconda3\\lib\\site-packages (from requests->kagglehub) (2024.12.14)\n",
      "Requirement already satisfied: colorama in c:\\users\\hp\\anaconda3\\lib\\site-packages (from tqdm->kagglehub) (0.4.6)\n"
     ]
    }
   ],
   "source": [
    "# kagglehub: A tool for easily downloading Kaggle's datasets\n",
    "!pip install kagglehub"
   ]
  },
  {
   "cell_type": "markdown",
   "metadata": {},
   "source": [
    "## Importing and downloading the dataset"
   ]
  },
  {
   "cell_type": "code",
   "execution_count": 8,
   "metadata": {
    "colab": {
     "base_uri": "https://localhost:8080/"
    },
    "id": "lYWyQWR40t9k",
    "outputId": "193c05ec-fb27-4060-9316-d4626ac785f0"
   },
   "outputs": [
    {
     "name": "stdout",
     "output_type": "stream",
     "text": [
      "Path to dataset files: C:\\Users\\HP\\.cache\\kagglehub\\datasets\\adeniranstephen\\obesity-prediction-dataset\\versions\\1\n"
     ]
    }
   ],
   "source": [
    "import kagglehub\n",
    "\n",
    "# Download the dataset to the computer\n",
    "path = kagglehub.dataset_download(\"adeniranstephen/obesity-prediction-dataset\")\n",
    "\n",
    "# Display the location of the dataset\n",
    "print(\"Path to dataset files:\", path)"
   ]
  },
  {
   "cell_type": "code",
   "execution_count": 9,
   "metadata": {
    "colab": {
     "base_uri": "https://localhost:8080/"
    },
    "id": "gxfQg2IV0wGC",
    "outputId": "84c5b836-f6dd-411e-9ef7-0e9e471db03d"
   },
   "outputs": [
    {
     "data": {
      "text/plain": [
       "['ObesityDataSet_raw_and_data_sinthetic.csv']"
      ]
     },
     "execution_count": 9,
     "metadata": {},
     "output_type": "execute_result"
    }
   ],
   "source": [
    "# List the downloaded file(s)\n",
    "os.listdir(path)"
   ]
  },
  {
   "cell_type": "markdown",
   "metadata": {},
   "source": [
    "## Loading Data with Pandas"
   ]
  },
  {
   "cell_type": "code",
   "execution_count": 11,
   "metadata": {
    "id": "101DKzoi0y_a"
   },
   "outputs": [],
   "source": [
    "# pd.read_csv(...) : Loads data into a DataFrame (df)\n",
    "df = pd.read_csv(path + '/ObesityDataSet_raw_and_data_sinthetic.csv')"
   ]
  },
  {
   "cell_type": "code",
   "execution_count": 12,
   "metadata": {
    "colab": {
     "base_uri": "https://localhost:8080/",
     "height": 226
    },
    "id": "iDKXpC5d5aTt",
    "outputId": "7a339af3-1b18-40e6-f487-b5a4992c8ca1"
   },
   "outputs": [
    {
     "data": {
      "text/html": [
       "<div>\n",
       "<style scoped>\n",
       "    .dataframe tbody tr th:only-of-type {\n",
       "        vertical-align: middle;\n",
       "    }\n",
       "\n",
       "    .dataframe tbody tr th {\n",
       "        vertical-align: top;\n",
       "    }\n",
       "\n",
       "    .dataframe thead th {\n",
       "        text-align: right;\n",
       "    }\n",
       "</style>\n",
       "<table border=\"1\" class=\"dataframe\">\n",
       "  <thead>\n",
       "    <tr style=\"text-align: right;\">\n",
       "      <th></th>\n",
       "      <th>Gender</th>\n",
       "      <th>Age</th>\n",
       "      <th>Height</th>\n",
       "      <th>Weight</th>\n",
       "      <th>family_history_with_overweight</th>\n",
       "      <th>FAVC</th>\n",
       "      <th>FCVC</th>\n",
       "      <th>NCP</th>\n",
       "      <th>CAEC</th>\n",
       "      <th>SMOKE</th>\n",
       "      <th>CH2O</th>\n",
       "      <th>SCC</th>\n",
       "      <th>FAF</th>\n",
       "      <th>TUE</th>\n",
       "      <th>CALC</th>\n",
       "      <th>MTRANS</th>\n",
       "      <th>NObeyesdad</th>\n",
       "    </tr>\n",
       "  </thead>\n",
       "  <tbody>\n",
       "    <tr>\n",
       "      <th>0</th>\n",
       "      <td>Female</td>\n",
       "      <td>21</td>\n",
       "      <td>1.62</td>\n",
       "      <td>64.0</td>\n",
       "      <td>yes</td>\n",
       "      <td>no</td>\n",
       "      <td>2.0</td>\n",
       "      <td>3.0</td>\n",
       "      <td>Sometimes</td>\n",
       "      <td>no</td>\n",
       "      <td>2.0</td>\n",
       "      <td>no</td>\n",
       "      <td>0.0</td>\n",
       "      <td>1.0</td>\n",
       "      <td>no</td>\n",
       "      <td>Public_Transportation</td>\n",
       "      <td>Normal_Weight</td>\n",
       "    </tr>\n",
       "    <tr>\n",
       "      <th>1</th>\n",
       "      <td>Female</td>\n",
       "      <td>21</td>\n",
       "      <td>1.52</td>\n",
       "      <td>56.0</td>\n",
       "      <td>yes</td>\n",
       "      <td>no</td>\n",
       "      <td>3.0</td>\n",
       "      <td>3.0</td>\n",
       "      <td>Sometimes</td>\n",
       "      <td>yes</td>\n",
       "      <td>3.0</td>\n",
       "      <td>yes</td>\n",
       "      <td>3.0</td>\n",
       "      <td>0.0</td>\n",
       "      <td>Sometimes</td>\n",
       "      <td>Public_Transportation</td>\n",
       "      <td>Normal_Weight</td>\n",
       "    </tr>\n",
       "    <tr>\n",
       "      <th>2</th>\n",
       "      <td>Male</td>\n",
       "      <td>23</td>\n",
       "      <td>1.80</td>\n",
       "      <td>77.0</td>\n",
       "      <td>yes</td>\n",
       "      <td>no</td>\n",
       "      <td>2.0</td>\n",
       "      <td>3.0</td>\n",
       "      <td>Sometimes</td>\n",
       "      <td>no</td>\n",
       "      <td>2.0</td>\n",
       "      <td>no</td>\n",
       "      <td>2.0</td>\n",
       "      <td>1.0</td>\n",
       "      <td>Frequently</td>\n",
       "      <td>Public_Transportation</td>\n",
       "      <td>Normal_Weight</td>\n",
       "    </tr>\n",
       "    <tr>\n",
       "      <th>3</th>\n",
       "      <td>Male</td>\n",
       "      <td>27</td>\n",
       "      <td>1.80</td>\n",
       "      <td>87.0</td>\n",
       "      <td>no</td>\n",
       "      <td>no</td>\n",
       "      <td>3.0</td>\n",
       "      <td>3.0</td>\n",
       "      <td>Sometimes</td>\n",
       "      <td>no</td>\n",
       "      <td>2.0</td>\n",
       "      <td>no</td>\n",
       "      <td>2.0</td>\n",
       "      <td>0.0</td>\n",
       "      <td>Frequently</td>\n",
       "      <td>Walking</td>\n",
       "      <td>Overweight_Level_I</td>\n",
       "    </tr>\n",
       "    <tr>\n",
       "      <th>4</th>\n",
       "      <td>Male</td>\n",
       "      <td>22</td>\n",
       "      <td>1.78</td>\n",
       "      <td>89.8</td>\n",
       "      <td>no</td>\n",
       "      <td>no</td>\n",
       "      <td>2.0</td>\n",
       "      <td>1.0</td>\n",
       "      <td>Sometimes</td>\n",
       "      <td>no</td>\n",
       "      <td>2.0</td>\n",
       "      <td>no</td>\n",
       "      <td>0.0</td>\n",
       "      <td>0.0</td>\n",
       "      <td>Sometimes</td>\n",
       "      <td>Public_Transportation</td>\n",
       "      <td>Overweight_Level_II</td>\n",
       "    </tr>\n",
       "  </tbody>\n",
       "</table>\n",
       "</div>"
      ],
      "text/plain": [
       "   Gender  Age  Height  Weight family_history_with_overweight FAVC  FCVC  NCP  \\\n",
       "0  Female   21    1.62    64.0                            yes   no   2.0  3.0   \n",
       "1  Female   21    1.52    56.0                            yes   no   3.0  3.0   \n",
       "2    Male   23    1.80    77.0                            yes   no   2.0  3.0   \n",
       "3    Male   27    1.80    87.0                             no   no   3.0  3.0   \n",
       "4    Male   22    1.78    89.8                             no   no   2.0  1.0   \n",
       "\n",
       "        CAEC SMOKE  CH2O  SCC  FAF  TUE        CALC                 MTRANS  \\\n",
       "0  Sometimes    no   2.0   no  0.0  1.0          no  Public_Transportation   \n",
       "1  Sometimes   yes   3.0  yes  3.0  0.0   Sometimes  Public_Transportation   \n",
       "2  Sometimes    no   2.0   no  2.0  1.0  Frequently  Public_Transportation   \n",
       "3  Sometimes    no   2.0   no  2.0  0.0  Frequently                Walking   \n",
       "4  Sometimes    no   2.0   no  0.0  0.0   Sometimes  Public_Transportation   \n",
       "\n",
       "            NObeyesdad  \n",
       "0        Normal_Weight  \n",
       "1        Normal_Weight  \n",
       "2        Normal_Weight  \n",
       "3   Overweight_Level_I  \n",
       "4  Overweight_Level_II  "
      ]
     },
     "execution_count": 12,
     "metadata": {},
     "output_type": "execute_result"
    }
   ],
   "source": [
    "# df.head(): returns the first 5 rows in df\n",
    "df.head()"
   ]
  },
  {
   "cell_type": "markdown",
   "metadata": {
    "id": "kv0aZxeU1AXY"
   },
   "source": [
    "**Features:**\n",
    "\n",
    "*   **Gender** – Male or Female.\n",
    "*   **Age –** The person’s age in years.\n",
    "* **Height –** Height in meters.\n",
    "* **Weight –** Weight in kilograms.\n",
    "* **family_history_with_overweight –** Whether the person has a family history of * * being overweight (yes/no).\n",
    "* **FAVC –** If the person frequently consumes high-calorie foods (yes/no).\n",
    "* **FCVC –** Frequency of vegetable consumption (scale from 1 to 3).\n",
    "* **NCP –** Number of main meals per day.\n",
    "* **CAEC –** Frequency of consuming food between meals (Never, Sometimes, Frequently, Always).\n",
    "* **SMOKE –** Whether the person smokes (yes/no).\n",
    "* **CH2O –** Daily water intake (scale from 1 to 3).\n",
    "* **SCC –** If the person monitors their calorie intake (yes/no).\n",
    "* **FAF –** Physical activity frequency (scale from 0 to 3).\n",
    "* **TUE –** Time spent using technology (scale from 0 to 3).\n",
    "* **CALC –** Frequency of alcohol consumption (Never, Sometimes, Frequently, Always).\n",
    "* **MTRANS –** Main mode of transportation (Automobile, Bike, Motorbike, Public Transportation, Walking).\n",
    "\n",
    "**Target :**\n",
    "\n",
    "* **NObeyesdad –** Obesity level (Insufficient Weight, Normal Weight, Overweight Level I, Overweight Level II, Obesity Type I, Obesity Type II, Obesity Type III)"
   ]
  },
  {
   "cell_type": "code",
   "execution_count": 14,
   "metadata": {
    "colab": {
     "base_uri": "https://localhost:8080/"
    },
    "id": "rTSUJFz30z2B",
    "outputId": "3896702b-24d8-4b4f-a650-10a2dc52fe70"
   },
   "outputs": [
    {
     "name": "stdout",
     "output_type": "stream",
     "text": [
      "<class 'pandas.core.frame.DataFrame'>\n",
      "RangeIndex: 2111 entries, 0 to 2110\n",
      "Data columns (total 17 columns):\n",
      " #   Column                          Non-Null Count  Dtype  \n",
      "---  ------                          --------------  -----  \n",
      " 0   Gender                          2111 non-null   object \n",
      " 1   Age                             2111 non-null   int64  \n",
      " 2   Height                          2111 non-null   float64\n",
      " 3   Weight                          2111 non-null   float64\n",
      " 4   family_history_with_overweight  2111 non-null   object \n",
      " 5   FAVC                            2111 non-null   object \n",
      " 6   FCVC                            2111 non-null   float64\n",
      " 7   NCP                             2111 non-null   float64\n",
      " 8   CAEC                            2111 non-null   object \n",
      " 9   SMOKE                           2111 non-null   object \n",
      " 10  CH2O                            2111 non-null   float64\n",
      " 11  SCC                             2111 non-null   object \n",
      " 12  FAF                             2111 non-null   float64\n",
      " 13  TUE                             2111 non-null   float64\n",
      " 14  CALC                            2111 non-null   object \n",
      " 15  MTRANS                          2111 non-null   object \n",
      " 16  NObeyesdad                      2111 non-null   object \n",
      "dtypes: float64(7), int64(1), object(9)\n",
      "memory usage: 280.5+ KB\n"
     ]
    }
   ],
   "source": [
    "# A quick summary of the DataFrame df\n",
    "df.info()"
   ]
  },
  {
   "cell_type": "code",
   "execution_count": 15,
   "metadata": {},
   "outputs": [
    {
     "data": {
      "text/plain": [
       "'\\nusing info() helps us know:\\n\\n- the number of rows in the dataset : here we have 2111 rows (rows = entries)\\n\\n- the number of columns in the dataset : here we have 17 columns\\n\\n- the presence or absence of non-null values: here we have an absence of non-null values\\n\\n- the columns & their types: here we have \\nGender (object), Age (int64), Height (float64), Weight (float64), family_history_with_overweight (object), FAVC (object),\\nFCVC (float64), NCP (float64), CAEC (object), SMOKE (object), CH2O (float64), SCC (object), FAF (float64), TUE (float64), \\nCALC (object), MTRANS (object), NObeyesdad (object)\\n\\n- the memory usage: 280.5+ KB\\n\\n- the number of occurrences of a data type: here we have float64(7 times), int64(1 time), object(9 times)\\n\\n'"
      ]
     },
     "execution_count": 15,
     "metadata": {},
     "output_type": "execute_result"
    }
   ],
   "source": [
    "'''\n",
    "using info() helps us know:\n",
    "\n",
    "- the number of rows in the dataset : here we have 2111 rows (rows = entries)\n",
    "\n",
    "- the number of columns in the dataset : here we have 17 columns\n",
    "\n",
    "- the presence or absence of non-null values: here we have an absence of non-null values\n",
    "\n",
    "- the columns & their types: here we have \n",
    "Gender (object), Age (int64), Height (float64), Weight (float64), family_history_with_overweight (object), FAVC (object),\n",
    "FCVC (float64), NCP (float64), CAEC (object), SMOKE (object), CH2O (float64), SCC (object), FAF (float64), TUE (float64), \n",
    "CALC (object), MTRANS (object), NObeyesdad (object)\n",
    "\n",
    "- the memory usage: 280.5+ KB\n",
    "\n",
    "- the number of occurrences of a data type: here we have float64(7 times), int64(1 time), object(9 times)\n",
    "\n",
    "'''"
   ]
  },
  {
   "cell_type": "code",
   "execution_count": 16,
   "metadata": {
    "colab": {
     "base_uri": "https://localhost:8080/",
     "height": 617
    },
    "id": "-8z1zPPH7qg0",
    "outputId": "5a00073c-e002-4635-e86a-57d7efdc4dce"
   },
   "outputs": [
    {
     "data": {
      "text/plain": [
       "Gender                            0\n",
       "Age                               0\n",
       "Height                            0\n",
       "Weight                            0\n",
       "family_history_with_overweight    0\n",
       "FAVC                              0\n",
       "FCVC                              0\n",
       "NCP                               0\n",
       "CAEC                              0\n",
       "SMOKE                             0\n",
       "CH2O                              0\n",
       "SCC                               0\n",
       "FAF                               0\n",
       "TUE                               0\n",
       "CALC                              0\n",
       "MTRANS                            0\n",
       "NObeyesdad                        0\n",
       "dtype: int64"
      ]
     },
     "execution_count": 16,
     "metadata": {},
     "output_type": "execute_result"
    }
   ],
   "source": [
    "# isna(): returns a boolean same-sized Dataframe indicating if the values are NAN in df or not\n",
    "# True: means NAN , False: not a NAN\n",
    "# sum(): returns the sum of the True values in the boolean Dataframe\n",
    "df.isna().sum()"
   ]
  },
  {
   "cell_type": "code",
   "execution_count": 17,
   "metadata": {},
   "outputs": [
    {
     "data": {
      "text/plain": [
       "\"\\nActually df.isna().sum(), just like df.shape, doesn't really help here, since we already saw if the values are missing in each column using info()\\n\""
      ]
     },
     "execution_count": 17,
     "metadata": {},
     "output_type": "execute_result"
    }
   ],
   "source": [
    "'''\n",
    "Actually df.isna().sum(), just like df.shape, doesn't really help here, since we already saw if the values are missing in each column using info()\n",
    "'''"
   ]
  },
  {
   "cell_type": "code",
   "execution_count": 18,
   "metadata": {},
   "outputs": [
    {
     "data": {
      "text/plain": [
       "\"\\n- Question: so the first thing to do is to use info() & shape?\\n\\n- Answer:\\n\\nWe can approach the problems using many different ways,\\nthe first thing to do is to diagnose the state of our dataset, understand what's in it:\\nif there are missing values,\\nif there are duplicates (even if we have a very good ML model, duplicates can have an effect on the results:\\nwhen we do a split for the train set, the validation set and or the test set,\\nthese duplicates will be found here and there, so the model will already have the answers for the questions asked,\\nit would be like a student cheating on an exam)\\n\\n\""
      ]
     },
     "execution_count": 18,
     "metadata": {},
     "output_type": "execute_result"
    }
   ],
   "source": [
    "'''\n",
    "- Question: so the first thing to do is to use info() & shape?\n",
    "\n",
    "- Answer:\n",
    "\n",
    "We can approach the problems using many different ways,\n",
    "the first thing to do is to diagnose the state of our dataset, understand what's in it:\n",
    "if there are missing values,\n",
    "if there are duplicates (even if we have a very good ML model, duplicates can have an effect on the results:\n",
    "when we do a split for the train set, the validation set and or the test set,\n",
    "these duplicates will be found here and there, so the model will already have the answers for the questions asked,\n",
    "it would be like a student cheating on an exam)\n",
    "\n",
    "'''"
   ]
  },
  {
   "cell_type": "code",
   "execution_count": 19,
   "metadata": {},
   "outputs": [
    {
     "data": {
      "text/plain": [
       "0       False\n",
       "1       False\n",
       "2       False\n",
       "3       False\n",
       "4       False\n",
       "        ...  \n",
       "2106    False\n",
       "2107    False\n",
       "2108    False\n",
       "2109    False\n",
       "2110    False\n",
       "Length: 2111, dtype: bool"
      ]
     },
     "execution_count": 19,
     "metadata": {},
     "output_type": "execute_result"
    }
   ],
   "source": [
    "# df.duplicated(): returns a boolean same-sized Dataframe indicating if the rows are duplicated in df\n",
    "# True: means duplicate , False: means not a duplicate\n",
    "df.duplicated()"
   ]
  },
  {
   "cell_type": "code",
   "execution_count": 20,
   "metadata": {},
   "outputs": [
    {
     "data": {
      "text/plain": [
       "24"
      ]
     },
     "execution_count": 20,
     "metadata": {},
     "output_type": "execute_result"
    }
   ],
   "source": [
    "# df.duplicated(): returns a boolean same-sized Dataframe indicating if the rows are duplicated in df\n",
    "# True: means duplicate , False: means not a duplicate\n",
    "# sum(): returns the sum of the True values in the boolean Dataframe\n",
    "df.duplicated().sum()"
   ]
  },
  {
   "cell_type": "code",
   "execution_count": 21,
   "metadata": {},
   "outputs": [
    {
     "data": {
      "text/plain": [
       "'\\nWe have 24 duplicates in df\\nWe can see the duplicates using df[df.duplicated()]:\\n\\n'"
      ]
     },
     "execution_count": 21,
     "metadata": {},
     "output_type": "execute_result"
    }
   ],
   "source": [
    "'''\n",
    "We have 24 duplicates in df\n",
    "We can see the duplicates using df[df.duplicated()]:\n",
    "\n",
    "'''"
   ]
  },
  {
   "cell_type": "code",
   "execution_count": 22,
   "metadata": {
    "scrolled": true
   },
   "outputs": [
    {
     "data": {
      "text/html": [
       "<div>\n",
       "<style scoped>\n",
       "    .dataframe tbody tr th:only-of-type {\n",
       "        vertical-align: middle;\n",
       "    }\n",
       "\n",
       "    .dataframe tbody tr th {\n",
       "        vertical-align: top;\n",
       "    }\n",
       "\n",
       "    .dataframe thead th {\n",
       "        text-align: right;\n",
       "    }\n",
       "</style>\n",
       "<table border=\"1\" class=\"dataframe\">\n",
       "  <thead>\n",
       "    <tr style=\"text-align: right;\">\n",
       "      <th></th>\n",
       "      <th>Gender</th>\n",
       "      <th>Age</th>\n",
       "      <th>Height</th>\n",
       "      <th>Weight</th>\n",
       "      <th>family_history_with_overweight</th>\n",
       "      <th>FAVC</th>\n",
       "      <th>FCVC</th>\n",
       "      <th>NCP</th>\n",
       "      <th>CAEC</th>\n",
       "      <th>SMOKE</th>\n",
       "      <th>CH2O</th>\n",
       "      <th>SCC</th>\n",
       "      <th>FAF</th>\n",
       "      <th>TUE</th>\n",
       "      <th>CALC</th>\n",
       "      <th>MTRANS</th>\n",
       "      <th>NObeyesdad</th>\n",
       "    </tr>\n",
       "  </thead>\n",
       "  <tbody>\n",
       "    <tr>\n",
       "      <th>98</th>\n",
       "      <td>Female</td>\n",
       "      <td>21</td>\n",
       "      <td>1.52</td>\n",
       "      <td>42.0</td>\n",
       "      <td>no</td>\n",
       "      <td>no</td>\n",
       "      <td>3.0</td>\n",
       "      <td>1.0</td>\n",
       "      <td>Frequently</td>\n",
       "      <td>no</td>\n",
       "      <td>1.0</td>\n",
       "      <td>no</td>\n",
       "      <td>0.0</td>\n",
       "      <td>0.0</td>\n",
       "      <td>Sometimes</td>\n",
       "      <td>Public_Transportation</td>\n",
       "      <td>Insufficient_Weight</td>\n",
       "    </tr>\n",
       "    <tr>\n",
       "      <th>106</th>\n",
       "      <td>Female</td>\n",
       "      <td>25</td>\n",
       "      <td>1.57</td>\n",
       "      <td>55.0</td>\n",
       "      <td>no</td>\n",
       "      <td>yes</td>\n",
       "      <td>2.0</td>\n",
       "      <td>1.0</td>\n",
       "      <td>Sometimes</td>\n",
       "      <td>no</td>\n",
       "      <td>2.0</td>\n",
       "      <td>no</td>\n",
       "      <td>2.0</td>\n",
       "      <td>0.0</td>\n",
       "      <td>Sometimes</td>\n",
       "      <td>Public_Transportation</td>\n",
       "      <td>Normal_Weight</td>\n",
       "    </tr>\n",
       "    <tr>\n",
       "      <th>174</th>\n",
       "      <td>Male</td>\n",
       "      <td>21</td>\n",
       "      <td>1.62</td>\n",
       "      <td>70.0</td>\n",
       "      <td>no</td>\n",
       "      <td>yes</td>\n",
       "      <td>2.0</td>\n",
       "      <td>1.0</td>\n",
       "      <td>no</td>\n",
       "      <td>no</td>\n",
       "      <td>3.0</td>\n",
       "      <td>no</td>\n",
       "      <td>1.0</td>\n",
       "      <td>0.0</td>\n",
       "      <td>Sometimes</td>\n",
       "      <td>Public_Transportation</td>\n",
       "      <td>Overweight_Level_I</td>\n",
       "    </tr>\n",
       "    <tr>\n",
       "      <th>179</th>\n",
       "      <td>Male</td>\n",
       "      <td>21</td>\n",
       "      <td>1.62</td>\n",
       "      <td>70.0</td>\n",
       "      <td>no</td>\n",
       "      <td>yes</td>\n",
       "      <td>2.0</td>\n",
       "      <td>1.0</td>\n",
       "      <td>no</td>\n",
       "      <td>no</td>\n",
       "      <td>3.0</td>\n",
       "      <td>no</td>\n",
       "      <td>1.0</td>\n",
       "      <td>0.0</td>\n",
       "      <td>Sometimes</td>\n",
       "      <td>Public_Transportation</td>\n",
       "      <td>Overweight_Level_I</td>\n",
       "    </tr>\n",
       "    <tr>\n",
       "      <th>184</th>\n",
       "      <td>Male</td>\n",
       "      <td>21</td>\n",
       "      <td>1.62</td>\n",
       "      <td>70.0</td>\n",
       "      <td>no</td>\n",
       "      <td>yes</td>\n",
       "      <td>2.0</td>\n",
       "      <td>1.0</td>\n",
       "      <td>no</td>\n",
       "      <td>no</td>\n",
       "      <td>3.0</td>\n",
       "      <td>no</td>\n",
       "      <td>1.0</td>\n",
       "      <td>0.0</td>\n",
       "      <td>Sometimes</td>\n",
       "      <td>Public_Transportation</td>\n",
       "      <td>Overweight_Level_I</td>\n",
       "    </tr>\n",
       "    <tr>\n",
       "      <th>209</th>\n",
       "      <td>Female</td>\n",
       "      <td>22</td>\n",
       "      <td>1.69</td>\n",
       "      <td>65.0</td>\n",
       "      <td>yes</td>\n",
       "      <td>yes</td>\n",
       "      <td>2.0</td>\n",
       "      <td>3.0</td>\n",
       "      <td>Sometimes</td>\n",
       "      <td>no</td>\n",
       "      <td>2.0</td>\n",
       "      <td>no</td>\n",
       "      <td>1.0</td>\n",
       "      <td>1.0</td>\n",
       "      <td>Sometimes</td>\n",
       "      <td>Public_Transportation</td>\n",
       "      <td>Normal_Weight</td>\n",
       "    </tr>\n",
       "    <tr>\n",
       "      <th>309</th>\n",
       "      <td>Female</td>\n",
       "      <td>16</td>\n",
       "      <td>1.66</td>\n",
       "      <td>58.0</td>\n",
       "      <td>no</td>\n",
       "      <td>no</td>\n",
       "      <td>2.0</td>\n",
       "      <td>1.0</td>\n",
       "      <td>Sometimes</td>\n",
       "      <td>no</td>\n",
       "      <td>1.0</td>\n",
       "      <td>no</td>\n",
       "      <td>0.0</td>\n",
       "      <td>1.0</td>\n",
       "      <td>no</td>\n",
       "      <td>Walking</td>\n",
       "      <td>Normal_Weight</td>\n",
       "    </tr>\n",
       "    <tr>\n",
       "      <th>460</th>\n",
       "      <td>Female</td>\n",
       "      <td>18</td>\n",
       "      <td>1.62</td>\n",
       "      <td>55.0</td>\n",
       "      <td>yes</td>\n",
       "      <td>yes</td>\n",
       "      <td>2.0</td>\n",
       "      <td>3.0</td>\n",
       "      <td>Frequently</td>\n",
       "      <td>no</td>\n",
       "      <td>1.0</td>\n",
       "      <td>no</td>\n",
       "      <td>1.0</td>\n",
       "      <td>1.0</td>\n",
       "      <td>no</td>\n",
       "      <td>Public_Transportation</td>\n",
       "      <td>Normal_Weight</td>\n",
       "    </tr>\n",
       "    <tr>\n",
       "      <th>467</th>\n",
       "      <td>Male</td>\n",
       "      <td>22</td>\n",
       "      <td>1.74</td>\n",
       "      <td>75.0</td>\n",
       "      <td>yes</td>\n",
       "      <td>yes</td>\n",
       "      <td>3.0</td>\n",
       "      <td>3.0</td>\n",
       "      <td>Frequently</td>\n",
       "      <td>no</td>\n",
       "      <td>1.0</td>\n",
       "      <td>no</td>\n",
       "      <td>1.0</td>\n",
       "      <td>0.0</td>\n",
       "      <td>no</td>\n",
       "      <td>Automobile</td>\n",
       "      <td>Normal_Weight</td>\n",
       "    </tr>\n",
       "    <tr>\n",
       "      <th>496</th>\n",
       "      <td>Male</td>\n",
       "      <td>18</td>\n",
       "      <td>1.72</td>\n",
       "      <td>53.0</td>\n",
       "      <td>yes</td>\n",
       "      <td>yes</td>\n",
       "      <td>2.0</td>\n",
       "      <td>3.0</td>\n",
       "      <td>Sometimes</td>\n",
       "      <td>no</td>\n",
       "      <td>2.0</td>\n",
       "      <td>no</td>\n",
       "      <td>0.0</td>\n",
       "      <td>2.0</td>\n",
       "      <td>Sometimes</td>\n",
       "      <td>Public_Transportation</td>\n",
       "      <td>Insufficient_Weight</td>\n",
       "    </tr>\n",
       "    <tr>\n",
       "      <th>527</th>\n",
       "      <td>Female</td>\n",
       "      <td>21</td>\n",
       "      <td>1.52</td>\n",
       "      <td>42.0</td>\n",
       "      <td>no</td>\n",
       "      <td>yes</td>\n",
       "      <td>3.0</td>\n",
       "      <td>1.0</td>\n",
       "      <td>Frequently</td>\n",
       "      <td>no</td>\n",
       "      <td>1.0</td>\n",
       "      <td>no</td>\n",
       "      <td>0.0</td>\n",
       "      <td>0.0</td>\n",
       "      <td>Sometimes</td>\n",
       "      <td>Public_Transportation</td>\n",
       "      <td>Insufficient_Weight</td>\n",
       "    </tr>\n",
       "    <tr>\n",
       "      <th>659</th>\n",
       "      <td>Female</td>\n",
       "      <td>21</td>\n",
       "      <td>1.52</td>\n",
       "      <td>42.0</td>\n",
       "      <td>no</td>\n",
       "      <td>yes</td>\n",
       "      <td>3.0</td>\n",
       "      <td>1.0</td>\n",
       "      <td>Frequently</td>\n",
       "      <td>no</td>\n",
       "      <td>1.0</td>\n",
       "      <td>no</td>\n",
       "      <td>0.0</td>\n",
       "      <td>0.0</td>\n",
       "      <td>Sometimes</td>\n",
       "      <td>Public_Transportation</td>\n",
       "      <td>Insufficient_Weight</td>\n",
       "    </tr>\n",
       "    <tr>\n",
       "      <th>663</th>\n",
       "      <td>Female</td>\n",
       "      <td>21</td>\n",
       "      <td>1.52</td>\n",
       "      <td>42.0</td>\n",
       "      <td>no</td>\n",
       "      <td>yes</td>\n",
       "      <td>3.0</td>\n",
       "      <td>1.0</td>\n",
       "      <td>Frequently</td>\n",
       "      <td>no</td>\n",
       "      <td>1.0</td>\n",
       "      <td>no</td>\n",
       "      <td>0.0</td>\n",
       "      <td>0.0</td>\n",
       "      <td>Sometimes</td>\n",
       "      <td>Public_Transportation</td>\n",
       "      <td>Insufficient_Weight</td>\n",
       "    </tr>\n",
       "    <tr>\n",
       "      <th>763</th>\n",
       "      <td>Male</td>\n",
       "      <td>21</td>\n",
       "      <td>1.62</td>\n",
       "      <td>70.0</td>\n",
       "      <td>no</td>\n",
       "      <td>yes</td>\n",
       "      <td>2.0</td>\n",
       "      <td>1.0</td>\n",
       "      <td>no</td>\n",
       "      <td>no</td>\n",
       "      <td>3.0</td>\n",
       "      <td>no</td>\n",
       "      <td>1.0</td>\n",
       "      <td>0.0</td>\n",
       "      <td>Sometimes</td>\n",
       "      <td>Public_Transportation</td>\n",
       "      <td>Overweight_Level_I</td>\n",
       "    </tr>\n",
       "    <tr>\n",
       "      <th>764</th>\n",
       "      <td>Male</td>\n",
       "      <td>21</td>\n",
       "      <td>1.62</td>\n",
       "      <td>70.0</td>\n",
       "      <td>no</td>\n",
       "      <td>yes</td>\n",
       "      <td>2.0</td>\n",
       "      <td>1.0</td>\n",
       "      <td>no</td>\n",
       "      <td>no</td>\n",
       "      <td>3.0</td>\n",
       "      <td>no</td>\n",
       "      <td>1.0</td>\n",
       "      <td>0.0</td>\n",
       "      <td>Sometimes</td>\n",
       "      <td>Public_Transportation</td>\n",
       "      <td>Overweight_Level_I</td>\n",
       "    </tr>\n",
       "    <tr>\n",
       "      <th>824</th>\n",
       "      <td>Male</td>\n",
       "      <td>21</td>\n",
       "      <td>1.62</td>\n",
       "      <td>70.0</td>\n",
       "      <td>no</td>\n",
       "      <td>yes</td>\n",
       "      <td>2.0</td>\n",
       "      <td>1.0</td>\n",
       "      <td>no</td>\n",
       "      <td>no</td>\n",
       "      <td>3.0</td>\n",
       "      <td>no</td>\n",
       "      <td>1.0</td>\n",
       "      <td>0.0</td>\n",
       "      <td>Sometimes</td>\n",
       "      <td>Public_Transportation</td>\n",
       "      <td>Overweight_Level_I</td>\n",
       "    </tr>\n",
       "    <tr>\n",
       "      <th>830</th>\n",
       "      <td>Male</td>\n",
       "      <td>21</td>\n",
       "      <td>1.62</td>\n",
       "      <td>70.0</td>\n",
       "      <td>no</td>\n",
       "      <td>yes</td>\n",
       "      <td>2.0</td>\n",
       "      <td>1.0</td>\n",
       "      <td>no</td>\n",
       "      <td>no</td>\n",
       "      <td>3.0</td>\n",
       "      <td>no</td>\n",
       "      <td>1.0</td>\n",
       "      <td>0.0</td>\n",
       "      <td>Sometimes</td>\n",
       "      <td>Public_Transportation</td>\n",
       "      <td>Overweight_Level_I</td>\n",
       "    </tr>\n",
       "    <tr>\n",
       "      <th>831</th>\n",
       "      <td>Male</td>\n",
       "      <td>21</td>\n",
       "      <td>1.62</td>\n",
       "      <td>70.0</td>\n",
       "      <td>no</td>\n",
       "      <td>yes</td>\n",
       "      <td>2.0</td>\n",
       "      <td>1.0</td>\n",
       "      <td>no</td>\n",
       "      <td>no</td>\n",
       "      <td>3.0</td>\n",
       "      <td>no</td>\n",
       "      <td>1.0</td>\n",
       "      <td>0.0</td>\n",
       "      <td>Sometimes</td>\n",
       "      <td>Public_Transportation</td>\n",
       "      <td>Overweight_Level_I</td>\n",
       "    </tr>\n",
       "    <tr>\n",
       "      <th>832</th>\n",
       "      <td>Male</td>\n",
       "      <td>21</td>\n",
       "      <td>1.62</td>\n",
       "      <td>70.0</td>\n",
       "      <td>no</td>\n",
       "      <td>yes</td>\n",
       "      <td>2.0</td>\n",
       "      <td>1.0</td>\n",
       "      <td>no</td>\n",
       "      <td>no</td>\n",
       "      <td>3.0</td>\n",
       "      <td>no</td>\n",
       "      <td>1.0</td>\n",
       "      <td>0.0</td>\n",
       "      <td>Sometimes</td>\n",
       "      <td>Public_Transportation</td>\n",
       "      <td>Overweight_Level_I</td>\n",
       "    </tr>\n",
       "    <tr>\n",
       "      <th>833</th>\n",
       "      <td>Male</td>\n",
       "      <td>21</td>\n",
       "      <td>1.62</td>\n",
       "      <td>70.0</td>\n",
       "      <td>no</td>\n",
       "      <td>yes</td>\n",
       "      <td>2.0</td>\n",
       "      <td>1.0</td>\n",
       "      <td>no</td>\n",
       "      <td>no</td>\n",
       "      <td>3.0</td>\n",
       "      <td>no</td>\n",
       "      <td>1.0</td>\n",
       "      <td>0.0</td>\n",
       "      <td>Sometimes</td>\n",
       "      <td>Public_Transportation</td>\n",
       "      <td>Overweight_Level_I</td>\n",
       "    </tr>\n",
       "    <tr>\n",
       "      <th>834</th>\n",
       "      <td>Male</td>\n",
       "      <td>21</td>\n",
       "      <td>1.62</td>\n",
       "      <td>70.0</td>\n",
       "      <td>no</td>\n",
       "      <td>yes</td>\n",
       "      <td>2.0</td>\n",
       "      <td>1.0</td>\n",
       "      <td>no</td>\n",
       "      <td>no</td>\n",
       "      <td>3.0</td>\n",
       "      <td>no</td>\n",
       "      <td>1.0</td>\n",
       "      <td>0.0</td>\n",
       "      <td>Sometimes</td>\n",
       "      <td>Public_Transportation</td>\n",
       "      <td>Overweight_Level_I</td>\n",
       "    </tr>\n",
       "    <tr>\n",
       "      <th>921</th>\n",
       "      <td>Male</td>\n",
       "      <td>21</td>\n",
       "      <td>1.62</td>\n",
       "      <td>70.0</td>\n",
       "      <td>no</td>\n",
       "      <td>yes</td>\n",
       "      <td>2.0</td>\n",
       "      <td>1.0</td>\n",
       "      <td>no</td>\n",
       "      <td>no</td>\n",
       "      <td>3.0</td>\n",
       "      <td>no</td>\n",
       "      <td>1.0</td>\n",
       "      <td>0.0</td>\n",
       "      <td>Sometimes</td>\n",
       "      <td>Public_Transportation</td>\n",
       "      <td>Overweight_Level_I</td>\n",
       "    </tr>\n",
       "    <tr>\n",
       "      <th>922</th>\n",
       "      <td>Male</td>\n",
       "      <td>21</td>\n",
       "      <td>1.62</td>\n",
       "      <td>70.0</td>\n",
       "      <td>no</td>\n",
       "      <td>yes</td>\n",
       "      <td>2.0</td>\n",
       "      <td>1.0</td>\n",
       "      <td>no</td>\n",
       "      <td>no</td>\n",
       "      <td>3.0</td>\n",
       "      <td>no</td>\n",
       "      <td>1.0</td>\n",
       "      <td>0.0</td>\n",
       "      <td>Sometimes</td>\n",
       "      <td>Public_Transportation</td>\n",
       "      <td>Overweight_Level_I</td>\n",
       "    </tr>\n",
       "    <tr>\n",
       "      <th>923</th>\n",
       "      <td>Male</td>\n",
       "      <td>21</td>\n",
       "      <td>1.62</td>\n",
       "      <td>70.0</td>\n",
       "      <td>no</td>\n",
       "      <td>yes</td>\n",
       "      <td>2.0</td>\n",
       "      <td>1.0</td>\n",
       "      <td>no</td>\n",
       "      <td>no</td>\n",
       "      <td>3.0</td>\n",
       "      <td>no</td>\n",
       "      <td>1.0</td>\n",
       "      <td>0.0</td>\n",
       "      <td>Sometimes</td>\n",
       "      <td>Public_Transportation</td>\n",
       "      <td>Overweight_Level_I</td>\n",
       "    </tr>\n",
       "  </tbody>\n",
       "</table>\n",
       "</div>"
      ],
      "text/plain": [
       "     Gender  Age  Height  Weight family_history_with_overweight FAVC  FCVC  \\\n",
       "98   Female   21    1.52    42.0                             no   no   3.0   \n",
       "106  Female   25    1.57    55.0                             no  yes   2.0   \n",
       "174    Male   21    1.62    70.0                             no  yes   2.0   \n",
       "179    Male   21    1.62    70.0                             no  yes   2.0   \n",
       "184    Male   21    1.62    70.0                             no  yes   2.0   \n",
       "209  Female   22    1.69    65.0                            yes  yes   2.0   \n",
       "309  Female   16    1.66    58.0                             no   no   2.0   \n",
       "460  Female   18    1.62    55.0                            yes  yes   2.0   \n",
       "467    Male   22    1.74    75.0                            yes  yes   3.0   \n",
       "496    Male   18    1.72    53.0                            yes  yes   2.0   \n",
       "527  Female   21    1.52    42.0                             no  yes   3.0   \n",
       "659  Female   21    1.52    42.0                             no  yes   3.0   \n",
       "663  Female   21    1.52    42.0                             no  yes   3.0   \n",
       "763    Male   21    1.62    70.0                             no  yes   2.0   \n",
       "764    Male   21    1.62    70.0                             no  yes   2.0   \n",
       "824    Male   21    1.62    70.0                             no  yes   2.0   \n",
       "830    Male   21    1.62    70.0                             no  yes   2.0   \n",
       "831    Male   21    1.62    70.0                             no  yes   2.0   \n",
       "832    Male   21    1.62    70.0                             no  yes   2.0   \n",
       "833    Male   21    1.62    70.0                             no  yes   2.0   \n",
       "834    Male   21    1.62    70.0                             no  yes   2.0   \n",
       "921    Male   21    1.62    70.0                             no  yes   2.0   \n",
       "922    Male   21    1.62    70.0                             no  yes   2.0   \n",
       "923    Male   21    1.62    70.0                             no  yes   2.0   \n",
       "\n",
       "     NCP        CAEC SMOKE  CH2O SCC  FAF  TUE       CALC  \\\n",
       "98   1.0  Frequently    no   1.0  no  0.0  0.0  Sometimes   \n",
       "106  1.0   Sometimes    no   2.0  no  2.0  0.0  Sometimes   \n",
       "174  1.0          no    no   3.0  no  1.0  0.0  Sometimes   \n",
       "179  1.0          no    no   3.0  no  1.0  0.0  Sometimes   \n",
       "184  1.0          no    no   3.0  no  1.0  0.0  Sometimes   \n",
       "209  3.0   Sometimes    no   2.0  no  1.0  1.0  Sometimes   \n",
       "309  1.0   Sometimes    no   1.0  no  0.0  1.0         no   \n",
       "460  3.0  Frequently    no   1.0  no  1.0  1.0         no   \n",
       "467  3.0  Frequently    no   1.0  no  1.0  0.0         no   \n",
       "496  3.0   Sometimes    no   2.0  no  0.0  2.0  Sometimes   \n",
       "527  1.0  Frequently    no   1.0  no  0.0  0.0  Sometimes   \n",
       "659  1.0  Frequently    no   1.0  no  0.0  0.0  Sometimes   \n",
       "663  1.0  Frequently    no   1.0  no  0.0  0.0  Sometimes   \n",
       "763  1.0          no    no   3.0  no  1.0  0.0  Sometimes   \n",
       "764  1.0          no    no   3.0  no  1.0  0.0  Sometimes   \n",
       "824  1.0          no    no   3.0  no  1.0  0.0  Sometimes   \n",
       "830  1.0          no    no   3.0  no  1.0  0.0  Sometimes   \n",
       "831  1.0          no    no   3.0  no  1.0  0.0  Sometimes   \n",
       "832  1.0          no    no   3.0  no  1.0  0.0  Sometimes   \n",
       "833  1.0          no    no   3.0  no  1.0  0.0  Sometimes   \n",
       "834  1.0          no    no   3.0  no  1.0  0.0  Sometimes   \n",
       "921  1.0          no    no   3.0  no  1.0  0.0  Sometimes   \n",
       "922  1.0          no    no   3.0  no  1.0  0.0  Sometimes   \n",
       "923  1.0          no    no   3.0  no  1.0  0.0  Sometimes   \n",
       "\n",
       "                    MTRANS           NObeyesdad  \n",
       "98   Public_Transportation  Insufficient_Weight  \n",
       "106  Public_Transportation        Normal_Weight  \n",
       "174  Public_Transportation   Overweight_Level_I  \n",
       "179  Public_Transportation   Overweight_Level_I  \n",
       "184  Public_Transportation   Overweight_Level_I  \n",
       "209  Public_Transportation        Normal_Weight  \n",
       "309                Walking        Normal_Weight  \n",
       "460  Public_Transportation        Normal_Weight  \n",
       "467             Automobile        Normal_Weight  \n",
       "496  Public_Transportation  Insufficient_Weight  \n",
       "527  Public_Transportation  Insufficient_Weight  \n",
       "659  Public_Transportation  Insufficient_Weight  \n",
       "663  Public_Transportation  Insufficient_Weight  \n",
       "763  Public_Transportation   Overweight_Level_I  \n",
       "764  Public_Transportation   Overweight_Level_I  \n",
       "824  Public_Transportation   Overweight_Level_I  \n",
       "830  Public_Transportation   Overweight_Level_I  \n",
       "831  Public_Transportation   Overweight_Level_I  \n",
       "832  Public_Transportation   Overweight_Level_I  \n",
       "833  Public_Transportation   Overweight_Level_I  \n",
       "834  Public_Transportation   Overweight_Level_I  \n",
       "921  Public_Transportation   Overweight_Level_I  \n",
       "922  Public_Transportation   Overweight_Level_I  \n",
       "923  Public_Transportation   Overweight_Level_I  "
      ]
     },
     "execution_count": 22,
     "metadata": {},
     "output_type": "execute_result"
    }
   ],
   "source": [
    "# df.duplicated(): returns a boolean same-sized Dataframe indicating if the rows are duplicated in df\n",
    "# df[df.duplicated()]: uses boolean indexing to locate the (24) duplicates in df\n",
    "#df[...]: Filters the DataFrame, keeping only rows that are duplicates (True in df.duplicated())\n",
    "df[df.duplicated()]"
   ]
  },
  {
   "cell_type": "code",
   "execution_count": 23,
   "metadata": {},
   "outputs": [
    {
     "data": {
      "text/plain": [
       "\"\\nAre these really duplicates? Or errors in the dataset? That's a good question to ask!\\nAnd we don't have the answer to this question yet!\\nIf we want an answer to this question we have to do an analysis, or ask the people who collected the data on the data collection protocol,... etc\\nTHERE CAN BE SIMILAR CASES ON THE SAME DATASET: we can have identical profiles (a lookalike), there are billions of us on earth!\\n\\nHere we choose to delete the duplicates (we can keep them if we want to, it depends on the situation)\\n\\n\""
      ]
     },
     "execution_count": 23,
     "metadata": {},
     "output_type": "execute_result"
    }
   ],
   "source": [
    "'''\n",
    "Are these really duplicates? Or errors in the dataset? That's a good question to ask!\n",
    "And we don't have the answer to this question yet!\n",
    "If we want an answer to this question we have to do an analysis, or ask the people who collected the data on the data collection protocol,... etc\n",
    "THERE CAN BE SIMILAR CASES ON THE SAME DATASET: we can have identical profiles (a lookalike), there are billions of us on earth!\n",
    "\n",
    "Here we choose to delete the duplicates (we can keep them if we want to, it depends on the situation)\n",
    "\n",
    "'''"
   ]
  },
  {
   "cell_type": "code",
   "execution_count": 24,
   "metadata": {
    "colab": {
     "base_uri": "https://localhost:8080/",
     "height": 443
    },
    "id": "aBZbrDYL8NUx",
    "outputId": "7a07095c-59a4-4f42-ac46-622b4347736e",
    "scrolled": true
   },
   "outputs": [
    {
     "data": {
      "text/html": [
       "<div>\n",
       "<style scoped>\n",
       "    .dataframe tbody tr th:only-of-type {\n",
       "        vertical-align: middle;\n",
       "    }\n",
       "\n",
       "    .dataframe tbody tr th {\n",
       "        vertical-align: top;\n",
       "    }\n",
       "\n",
       "    .dataframe thead th {\n",
       "        text-align: right;\n",
       "    }\n",
       "</style>\n",
       "<table border=\"1\" class=\"dataframe\">\n",
       "  <thead>\n",
       "    <tr style=\"text-align: right;\">\n",
       "      <th></th>\n",
       "      <th>Gender</th>\n",
       "      <th>Age</th>\n",
       "      <th>Height</th>\n",
       "      <th>Weight</th>\n",
       "      <th>family_history_with_overweight</th>\n",
       "      <th>FAVC</th>\n",
       "      <th>FCVC</th>\n",
       "      <th>NCP</th>\n",
       "      <th>CAEC</th>\n",
       "      <th>SMOKE</th>\n",
       "      <th>CH2O</th>\n",
       "      <th>SCC</th>\n",
       "      <th>FAF</th>\n",
       "      <th>TUE</th>\n",
       "      <th>CALC</th>\n",
       "      <th>MTRANS</th>\n",
       "      <th>NObeyesdad</th>\n",
       "    </tr>\n",
       "  </thead>\n",
       "  <tbody>\n",
       "    <tr>\n",
       "      <th>0</th>\n",
       "      <td>Female</td>\n",
       "      <td>21</td>\n",
       "      <td>1.62</td>\n",
       "      <td>64.00</td>\n",
       "      <td>yes</td>\n",
       "      <td>no</td>\n",
       "      <td>2.0</td>\n",
       "      <td>3.0</td>\n",
       "      <td>Sometimes</td>\n",
       "      <td>no</td>\n",
       "      <td>2.00</td>\n",
       "      <td>no</td>\n",
       "      <td>0.00</td>\n",
       "      <td>1.000</td>\n",
       "      <td>no</td>\n",
       "      <td>Public_Transportation</td>\n",
       "      <td>Normal_Weight</td>\n",
       "    </tr>\n",
       "    <tr>\n",
       "      <th>1</th>\n",
       "      <td>Female</td>\n",
       "      <td>21</td>\n",
       "      <td>1.52</td>\n",
       "      <td>56.00</td>\n",
       "      <td>yes</td>\n",
       "      <td>no</td>\n",
       "      <td>3.0</td>\n",
       "      <td>3.0</td>\n",
       "      <td>Sometimes</td>\n",
       "      <td>yes</td>\n",
       "      <td>3.00</td>\n",
       "      <td>yes</td>\n",
       "      <td>3.00</td>\n",
       "      <td>0.000</td>\n",
       "      <td>Sometimes</td>\n",
       "      <td>Public_Transportation</td>\n",
       "      <td>Normal_Weight</td>\n",
       "    </tr>\n",
       "    <tr>\n",
       "      <th>2</th>\n",
       "      <td>Male</td>\n",
       "      <td>23</td>\n",
       "      <td>1.80</td>\n",
       "      <td>77.00</td>\n",
       "      <td>yes</td>\n",
       "      <td>no</td>\n",
       "      <td>2.0</td>\n",
       "      <td>3.0</td>\n",
       "      <td>Sometimes</td>\n",
       "      <td>no</td>\n",
       "      <td>2.00</td>\n",
       "      <td>no</td>\n",
       "      <td>2.00</td>\n",
       "      <td>1.000</td>\n",
       "      <td>Frequently</td>\n",
       "      <td>Public_Transportation</td>\n",
       "      <td>Normal_Weight</td>\n",
       "    </tr>\n",
       "    <tr>\n",
       "      <th>3</th>\n",
       "      <td>Male</td>\n",
       "      <td>27</td>\n",
       "      <td>1.80</td>\n",
       "      <td>87.00</td>\n",
       "      <td>no</td>\n",
       "      <td>no</td>\n",
       "      <td>3.0</td>\n",
       "      <td>3.0</td>\n",
       "      <td>Sometimes</td>\n",
       "      <td>no</td>\n",
       "      <td>2.00</td>\n",
       "      <td>no</td>\n",
       "      <td>2.00</td>\n",
       "      <td>0.000</td>\n",
       "      <td>Frequently</td>\n",
       "      <td>Walking</td>\n",
       "      <td>Overweight_Level_I</td>\n",
       "    </tr>\n",
       "    <tr>\n",
       "      <th>4</th>\n",
       "      <td>Male</td>\n",
       "      <td>22</td>\n",
       "      <td>1.78</td>\n",
       "      <td>89.80</td>\n",
       "      <td>no</td>\n",
       "      <td>no</td>\n",
       "      <td>2.0</td>\n",
       "      <td>1.0</td>\n",
       "      <td>Sometimes</td>\n",
       "      <td>no</td>\n",
       "      <td>2.00</td>\n",
       "      <td>no</td>\n",
       "      <td>0.00</td>\n",
       "      <td>0.000</td>\n",
       "      <td>Sometimes</td>\n",
       "      <td>Public_Transportation</td>\n",
       "      <td>Overweight_Level_II</td>\n",
       "    </tr>\n",
       "    <tr>\n",
       "      <th>...</th>\n",
       "      <td>...</td>\n",
       "      <td>...</td>\n",
       "      <td>...</td>\n",
       "      <td>...</td>\n",
       "      <td>...</td>\n",
       "      <td>...</td>\n",
       "      <td>...</td>\n",
       "      <td>...</td>\n",
       "      <td>...</td>\n",
       "      <td>...</td>\n",
       "      <td>...</td>\n",
       "      <td>...</td>\n",
       "      <td>...</td>\n",
       "      <td>...</td>\n",
       "      <td>...</td>\n",
       "      <td>...</td>\n",
       "      <td>...</td>\n",
       "    </tr>\n",
       "    <tr>\n",
       "      <th>2106</th>\n",
       "      <td>Female</td>\n",
       "      <td>21</td>\n",
       "      <td>1.71</td>\n",
       "      <td>131.41</td>\n",
       "      <td>yes</td>\n",
       "      <td>yes</td>\n",
       "      <td>3.0</td>\n",
       "      <td>3.0</td>\n",
       "      <td>Sometimes</td>\n",
       "      <td>no</td>\n",
       "      <td>1.73</td>\n",
       "      <td>no</td>\n",
       "      <td>1.68</td>\n",
       "      <td>0.906</td>\n",
       "      <td>Sometimes</td>\n",
       "      <td>Public_Transportation</td>\n",
       "      <td>Obesity_Type_III</td>\n",
       "    </tr>\n",
       "    <tr>\n",
       "      <th>2107</th>\n",
       "      <td>Female</td>\n",
       "      <td>22</td>\n",
       "      <td>1.75</td>\n",
       "      <td>133.74</td>\n",
       "      <td>yes</td>\n",
       "      <td>yes</td>\n",
       "      <td>3.0</td>\n",
       "      <td>3.0</td>\n",
       "      <td>Sometimes</td>\n",
       "      <td>no</td>\n",
       "      <td>2.01</td>\n",
       "      <td>no</td>\n",
       "      <td>1.34</td>\n",
       "      <td>0.599</td>\n",
       "      <td>Sometimes</td>\n",
       "      <td>Public_Transportation</td>\n",
       "      <td>Obesity_Type_III</td>\n",
       "    </tr>\n",
       "    <tr>\n",
       "      <th>2108</th>\n",
       "      <td>Female</td>\n",
       "      <td>23</td>\n",
       "      <td>1.75</td>\n",
       "      <td>133.69</td>\n",
       "      <td>yes</td>\n",
       "      <td>yes</td>\n",
       "      <td>3.0</td>\n",
       "      <td>3.0</td>\n",
       "      <td>Sometimes</td>\n",
       "      <td>no</td>\n",
       "      <td>2.05</td>\n",
       "      <td>no</td>\n",
       "      <td>1.41</td>\n",
       "      <td>0.646</td>\n",
       "      <td>Sometimes</td>\n",
       "      <td>Public_Transportation</td>\n",
       "      <td>Obesity_Type_III</td>\n",
       "    </tr>\n",
       "    <tr>\n",
       "      <th>2109</th>\n",
       "      <td>Female</td>\n",
       "      <td>24</td>\n",
       "      <td>1.74</td>\n",
       "      <td>133.35</td>\n",
       "      <td>yes</td>\n",
       "      <td>yes</td>\n",
       "      <td>3.0</td>\n",
       "      <td>3.0</td>\n",
       "      <td>Sometimes</td>\n",
       "      <td>no</td>\n",
       "      <td>2.85</td>\n",
       "      <td>no</td>\n",
       "      <td>1.14</td>\n",
       "      <td>0.586</td>\n",
       "      <td>Sometimes</td>\n",
       "      <td>Public_Transportation</td>\n",
       "      <td>Obesity_Type_III</td>\n",
       "    </tr>\n",
       "    <tr>\n",
       "      <th>2110</th>\n",
       "      <td>Female</td>\n",
       "      <td>24</td>\n",
       "      <td>1.74</td>\n",
       "      <td>133.47</td>\n",
       "      <td>yes</td>\n",
       "      <td>yes</td>\n",
       "      <td>3.0</td>\n",
       "      <td>3.0</td>\n",
       "      <td>Sometimes</td>\n",
       "      <td>no</td>\n",
       "      <td>2.86</td>\n",
       "      <td>no</td>\n",
       "      <td>1.03</td>\n",
       "      <td>0.714</td>\n",
       "      <td>Sometimes</td>\n",
       "      <td>Public_Transportation</td>\n",
       "      <td>Obesity_Type_III</td>\n",
       "    </tr>\n",
       "  </tbody>\n",
       "</table>\n",
       "<p>2087 rows × 17 columns</p>\n",
       "</div>"
      ],
      "text/plain": [
       "      Gender  Age  Height  Weight family_history_with_overweight FAVC  FCVC  \\\n",
       "0     Female   21    1.62   64.00                            yes   no   2.0   \n",
       "1     Female   21    1.52   56.00                            yes   no   3.0   \n",
       "2       Male   23    1.80   77.00                            yes   no   2.0   \n",
       "3       Male   27    1.80   87.00                             no   no   3.0   \n",
       "4       Male   22    1.78   89.80                             no   no   2.0   \n",
       "...      ...  ...     ...     ...                            ...  ...   ...   \n",
       "2106  Female   21    1.71  131.41                            yes  yes   3.0   \n",
       "2107  Female   22    1.75  133.74                            yes  yes   3.0   \n",
       "2108  Female   23    1.75  133.69                            yes  yes   3.0   \n",
       "2109  Female   24    1.74  133.35                            yes  yes   3.0   \n",
       "2110  Female   24    1.74  133.47                            yes  yes   3.0   \n",
       "\n",
       "      NCP       CAEC SMOKE  CH2O  SCC   FAF    TUE        CALC  \\\n",
       "0     3.0  Sometimes    no  2.00   no  0.00  1.000          no   \n",
       "1     3.0  Sometimes   yes  3.00  yes  3.00  0.000   Sometimes   \n",
       "2     3.0  Sometimes    no  2.00   no  2.00  1.000  Frequently   \n",
       "3     3.0  Sometimes    no  2.00   no  2.00  0.000  Frequently   \n",
       "4     1.0  Sometimes    no  2.00   no  0.00  0.000   Sometimes   \n",
       "...   ...        ...   ...   ...  ...   ...    ...         ...   \n",
       "2106  3.0  Sometimes    no  1.73   no  1.68  0.906   Sometimes   \n",
       "2107  3.0  Sometimes    no  2.01   no  1.34  0.599   Sometimes   \n",
       "2108  3.0  Sometimes    no  2.05   no  1.41  0.646   Sometimes   \n",
       "2109  3.0  Sometimes    no  2.85   no  1.14  0.586   Sometimes   \n",
       "2110  3.0  Sometimes    no  2.86   no  1.03  0.714   Sometimes   \n",
       "\n",
       "                     MTRANS           NObeyesdad  \n",
       "0     Public_Transportation        Normal_Weight  \n",
       "1     Public_Transportation        Normal_Weight  \n",
       "2     Public_Transportation        Normal_Weight  \n",
       "3                   Walking   Overweight_Level_I  \n",
       "4     Public_Transportation  Overweight_Level_II  \n",
       "...                     ...                  ...  \n",
       "2106  Public_Transportation     Obesity_Type_III  \n",
       "2107  Public_Transportation     Obesity_Type_III  \n",
       "2108  Public_Transportation     Obesity_Type_III  \n",
       "2109  Public_Transportation     Obesity_Type_III  \n",
       "2110  Public_Transportation     Obesity_Type_III  \n",
       "\n",
       "[2087 rows x 17 columns]"
      ]
     },
     "execution_count": 24,
     "metadata": {},
     "output_type": "execute_result"
    }
   ],
   "source": [
    "# df[~df.duplicated()]: is used to remove duplicates from a DataFrame df\n",
    "\n",
    "# df.duplicated(): returns a boolean same-sized Dataframe indicating if the rows are duplicated in df\n",
    "# True: means duplicate , False: means not a duplicate\n",
    "# ~: This is the negation operator in Python. It reverses True to False and vice versa\n",
    "#df[...]: Filters the DataFrame, keeping only rows that are not duplicates (False in df.duplicated())\n",
    "\n",
    "df[~df.duplicated()]\n",
    "\n",
    "# If we want to remove duplicates by directly modifying the DataFrame, we can use: df.drop_duplicates(inplace=True)\n",
    "# Where df.drop_duplicates() drops the duplicates in df & inplace=True modifies df by deleting these duplicates\n",
    "# If we want to remove duplicates considering only certain columns, we can do: df.drop_duplicates(subset=['ColumnName'], inplace=True):\n",
    "# This will remove duplicates only based on the \"ColumnName\" column, keeping the first occurrence"
   ]
  },
  {
   "cell_type": "code",
   "execution_count": 25,
   "metadata": {},
   "outputs": [
    {
     "data": {
      "text/plain": [
       "'\\nWe now have 2087 rows & 17 columns in df\\n'"
      ]
     },
     "execution_count": 25,
     "metadata": {},
     "output_type": "execute_result"
    }
   ],
   "source": [
    "'''\n",
    "We now have 2087 rows & 17 columns in df\n",
    "'''"
   ]
  },
  {
   "cell_type": "markdown",
   "metadata": {
    "id": "NAChk2OW92PB"
   },
   "source": [
    "# EDA"
   ]
  },
  {
   "cell_type": "code",
   "execution_count": 27,
   "metadata": {
    "colab": {
     "base_uri": "https://localhost:8080/"
    },
    "id": "6IPIZXOy8s5e",
    "outputId": "f06d1ac5-d2f6-4387-9541-1d91be0f2410"
   },
   "outputs": [
    {
     "data": {
      "text/plain": [
       "Index(['Gender', 'Age', 'Height', 'Weight', 'family_history_with_overweight',\n",
       "       'FAVC', 'FCVC', 'NCP', 'CAEC', 'SMOKE', 'CH2O', 'SCC', 'FAF', 'TUE',\n",
       "       'CALC', 'MTRANS', 'NObeyesdad'],\n",
       "      dtype='object')"
      ]
     },
     "execution_count": 27,
     "metadata": {},
     "output_type": "execute_result"
    }
   ],
   "source": [
    "# df's columns\n",
    "df.columns"
   ]
  },
  {
   "cell_type": "code",
   "execution_count": 28,
   "metadata": {},
   "outputs": [
    {
     "data": {
      "text/html": [
       "<div>\n",
       "<style scoped>\n",
       "    .dataframe tbody tr th:only-of-type {\n",
       "        vertical-align: middle;\n",
       "    }\n",
       "\n",
       "    .dataframe tbody tr th {\n",
       "        vertical-align: top;\n",
       "    }\n",
       "\n",
       "    .dataframe thead th {\n",
       "        text-align: right;\n",
       "    }\n",
       "</style>\n",
       "<table border=\"1\" class=\"dataframe\">\n",
       "  <thead>\n",
       "    <tr style=\"text-align: right;\">\n",
       "      <th></th>\n",
       "      <th>Gender</th>\n",
       "      <th>family_history_with_overweight</th>\n",
       "      <th>FAVC</th>\n",
       "      <th>CAEC</th>\n",
       "      <th>SMOKE</th>\n",
       "      <th>SCC</th>\n",
       "      <th>CALC</th>\n",
       "      <th>MTRANS</th>\n",
       "      <th>NObeyesdad</th>\n",
       "    </tr>\n",
       "  </thead>\n",
       "  <tbody>\n",
       "    <tr>\n",
       "      <th>0</th>\n",
       "      <td>Female</td>\n",
       "      <td>yes</td>\n",
       "      <td>no</td>\n",
       "      <td>Sometimes</td>\n",
       "      <td>no</td>\n",
       "      <td>no</td>\n",
       "      <td>no</td>\n",
       "      <td>Public_Transportation</td>\n",
       "      <td>Normal_Weight</td>\n",
       "    </tr>\n",
       "    <tr>\n",
       "      <th>1</th>\n",
       "      <td>Female</td>\n",
       "      <td>yes</td>\n",
       "      <td>no</td>\n",
       "      <td>Sometimes</td>\n",
       "      <td>yes</td>\n",
       "      <td>yes</td>\n",
       "      <td>Sometimes</td>\n",
       "      <td>Public_Transportation</td>\n",
       "      <td>Normal_Weight</td>\n",
       "    </tr>\n",
       "    <tr>\n",
       "      <th>2</th>\n",
       "      <td>Male</td>\n",
       "      <td>yes</td>\n",
       "      <td>no</td>\n",
       "      <td>Sometimes</td>\n",
       "      <td>no</td>\n",
       "      <td>no</td>\n",
       "      <td>Frequently</td>\n",
       "      <td>Public_Transportation</td>\n",
       "      <td>Normal_Weight</td>\n",
       "    </tr>\n",
       "    <tr>\n",
       "      <th>3</th>\n",
       "      <td>Male</td>\n",
       "      <td>no</td>\n",
       "      <td>no</td>\n",
       "      <td>Sometimes</td>\n",
       "      <td>no</td>\n",
       "      <td>no</td>\n",
       "      <td>Frequently</td>\n",
       "      <td>Walking</td>\n",
       "      <td>Overweight_Level_I</td>\n",
       "    </tr>\n",
       "    <tr>\n",
       "      <th>4</th>\n",
       "      <td>Male</td>\n",
       "      <td>no</td>\n",
       "      <td>no</td>\n",
       "      <td>Sometimes</td>\n",
       "      <td>no</td>\n",
       "      <td>no</td>\n",
       "      <td>Sometimes</td>\n",
       "      <td>Public_Transportation</td>\n",
       "      <td>Overweight_Level_II</td>\n",
       "    </tr>\n",
       "    <tr>\n",
       "      <th>...</th>\n",
       "      <td>...</td>\n",
       "      <td>...</td>\n",
       "      <td>...</td>\n",
       "      <td>...</td>\n",
       "      <td>...</td>\n",
       "      <td>...</td>\n",
       "      <td>...</td>\n",
       "      <td>...</td>\n",
       "      <td>...</td>\n",
       "    </tr>\n",
       "    <tr>\n",
       "      <th>2106</th>\n",
       "      <td>Female</td>\n",
       "      <td>yes</td>\n",
       "      <td>yes</td>\n",
       "      <td>Sometimes</td>\n",
       "      <td>no</td>\n",
       "      <td>no</td>\n",
       "      <td>Sometimes</td>\n",
       "      <td>Public_Transportation</td>\n",
       "      <td>Obesity_Type_III</td>\n",
       "    </tr>\n",
       "    <tr>\n",
       "      <th>2107</th>\n",
       "      <td>Female</td>\n",
       "      <td>yes</td>\n",
       "      <td>yes</td>\n",
       "      <td>Sometimes</td>\n",
       "      <td>no</td>\n",
       "      <td>no</td>\n",
       "      <td>Sometimes</td>\n",
       "      <td>Public_Transportation</td>\n",
       "      <td>Obesity_Type_III</td>\n",
       "    </tr>\n",
       "    <tr>\n",
       "      <th>2108</th>\n",
       "      <td>Female</td>\n",
       "      <td>yes</td>\n",
       "      <td>yes</td>\n",
       "      <td>Sometimes</td>\n",
       "      <td>no</td>\n",
       "      <td>no</td>\n",
       "      <td>Sometimes</td>\n",
       "      <td>Public_Transportation</td>\n",
       "      <td>Obesity_Type_III</td>\n",
       "    </tr>\n",
       "    <tr>\n",
       "      <th>2109</th>\n",
       "      <td>Female</td>\n",
       "      <td>yes</td>\n",
       "      <td>yes</td>\n",
       "      <td>Sometimes</td>\n",
       "      <td>no</td>\n",
       "      <td>no</td>\n",
       "      <td>Sometimes</td>\n",
       "      <td>Public_Transportation</td>\n",
       "      <td>Obesity_Type_III</td>\n",
       "    </tr>\n",
       "    <tr>\n",
       "      <th>2110</th>\n",
       "      <td>Female</td>\n",
       "      <td>yes</td>\n",
       "      <td>yes</td>\n",
       "      <td>Sometimes</td>\n",
       "      <td>no</td>\n",
       "      <td>no</td>\n",
       "      <td>Sometimes</td>\n",
       "      <td>Public_Transportation</td>\n",
       "      <td>Obesity_Type_III</td>\n",
       "    </tr>\n",
       "  </tbody>\n",
       "</table>\n",
       "<p>2111 rows × 9 columns</p>\n",
       "</div>"
      ],
      "text/plain": [
       "      Gender family_history_with_overweight FAVC       CAEC SMOKE  SCC  \\\n",
       "0     Female                            yes   no  Sometimes    no   no   \n",
       "1     Female                            yes   no  Sometimes   yes  yes   \n",
       "2       Male                            yes   no  Sometimes    no   no   \n",
       "3       Male                             no   no  Sometimes    no   no   \n",
       "4       Male                             no   no  Sometimes    no   no   \n",
       "...      ...                            ...  ...        ...   ...  ...   \n",
       "2106  Female                            yes  yes  Sometimes    no   no   \n",
       "2107  Female                            yes  yes  Sometimes    no   no   \n",
       "2108  Female                            yes  yes  Sometimes    no   no   \n",
       "2109  Female                            yes  yes  Sometimes    no   no   \n",
       "2110  Female                            yes  yes  Sometimes    no   no   \n",
       "\n",
       "            CALC                 MTRANS           NObeyesdad  \n",
       "0             no  Public_Transportation        Normal_Weight  \n",
       "1      Sometimes  Public_Transportation        Normal_Weight  \n",
       "2     Frequently  Public_Transportation        Normal_Weight  \n",
       "3     Frequently                Walking   Overweight_Level_I  \n",
       "4      Sometimes  Public_Transportation  Overweight_Level_II  \n",
       "...          ...                    ...                  ...  \n",
       "2106   Sometimes  Public_Transportation     Obesity_Type_III  \n",
       "2107   Sometimes  Public_Transportation     Obesity_Type_III  \n",
       "2108   Sometimes  Public_Transportation     Obesity_Type_III  \n",
       "2109   Sometimes  Public_Transportation     Obesity_Type_III  \n",
       "2110   Sometimes  Public_Transportation     Obesity_Type_III  \n",
       "\n",
       "[2111 rows x 9 columns]"
      ]
     },
     "execution_count": 28,
     "metadata": {},
     "output_type": "execute_result"
    }
   ],
   "source": [
    "# df.select_dtypes(): returns a subset of the DataFrame's columns based on the column dtypes\n",
    "# df.select_dtypes(include=\"object\"): Selects only columns whose data type is \"object\" (text or categories) in df\n",
    "df.select_dtypes(include=\"object\")"
   ]
  },
  {
   "cell_type": "code",
   "execution_count": 29,
   "metadata": {
    "colab": {
     "base_uri": "https://localhost:8080/"
    },
    "id": "0VhjHn9t94Vm",
    "outputId": "9bcd2220-3d40-47c4-f7ae-8dd2e5fae63e"
   },
   "outputs": [
    {
     "data": {
      "text/plain": [
       "Index(['Gender', 'family_history_with_overweight', 'FAVC', 'CAEC', 'SMOKE',\n",
       "       'SCC', 'CALC', 'MTRANS', 'NObeyesdad'],\n",
       "      dtype='object')"
      ]
     },
     "execution_count": 29,
     "metadata": {},
     "output_type": "execute_result"
    }
   ],
   "source": [
    "# df.select_dtypes(): returns a subset of the DataFrame's columns based on the column dtypes\n",
    "# df.select_dtypes(include=\"object\"): Selects only columns whose data type is \"object\" (text or categories) in df\n",
    "# .columns: Extracts the names of these columns as a list of Pandas indexes.\n",
    "df.select_dtypes(include=\"object\").columns"
   ]
  },
  {
   "cell_type": "code",
   "execution_count": 30,
   "metadata": {},
   "outputs": [
    {
     "data": {
      "text/plain": [
       "'\\nWhy is this useful?\\n- It allows us to identify categorical columns (variables) that need to be converted to numbers for use by a machine learning model.\\n- We can then use LabelEncoder or OneHotEncoder to transform these variables into numerical variables that can be used by an algorithm.\\n'"
      ]
     },
     "execution_count": 30,
     "metadata": {},
     "output_type": "execute_result"
    }
   ],
   "source": [
    "'''\n",
    "Why is this useful?\n",
    "- It allows us to identify categorical columns (variables) that need to be converted to numbers for use by a machine learning model.\n",
    "- We can then use LabelEncoder or OneHotEncoder to transform these variables into numerical variables that can be used by an algorithm.\n",
    "'''"
   ]
  },
  {
   "cell_type": "code",
   "execution_count": 31,
   "metadata": {
    "colab": {
     "base_uri": "https://localhost:8080/"
    },
    "id": "J1yyfsWgAkt9",
    "outputId": "668ae075-051f-4559-ff0e-aed7511611a1"
   },
   "outputs": [
    {
     "data": {
      "text/plain": [
       "Index(['Age', 'Height', 'Weight', 'FCVC', 'NCP', 'CH2O', 'FAF', 'TUE'], dtype='object')"
      ]
     },
     "execution_count": 31,
     "metadata": {},
     "output_type": "execute_result"
    }
   ],
   "source": [
    "# df.select_dtypes(exclude=\"object\"): selects only columns whose data type is NOT \"object\" (numeric columns)\n",
    "# .columns: extracts the names of these columns as a list of Pandas indexes\n",
    "df.select_dtypes(exclude=\"object\").columns"
   ]
  },
  {
   "cell_type": "code",
   "execution_count": 32,
   "metadata": {},
   "outputs": [
    {
     "data": {
      "text/plain": [
       "'\\nWhy is this useful?\\n\\n- This allows us to isolate columns containing numbers (such as age, weight, height, etc.).\\n- These columns can be used directly by machine learning algorithms without additional transformation.\\n- It also helps distinguish categorical data from numerical data before preprocessing.\\n\\n'"
      ]
     },
     "execution_count": 32,
     "metadata": {},
     "output_type": "execute_result"
    }
   ],
   "source": [
    "'''\n",
    "Why is this useful?\n",
    "\n",
    "- This allows us to isolate columns containing numbers (such as age, weight, height, etc.).\n",
    "- These columns can be used directly by machine learning algorithms without additional transformation.\n",
    "- It also helps distinguish categorical data from numerical data before preprocessing.\n",
    "\n",
    "'''"
   ]
  },
  {
   "cell_type": "markdown",
   "metadata": {},
   "source": [
    "### The Target Variable"
   ]
  },
  {
   "cell_type": "markdown",
   "metadata": {},
   "source": [
    "We can use 2 methods:\n",
    "- **unique():**"
   ]
  },
  {
   "cell_type": "code",
   "execution_count": 35,
   "metadata": {},
   "outputs": [
    {
     "data": {
      "text/plain": [
       "array(['Normal_Weight', 'Overweight_Level_I', 'Overweight_Level_II',\n",
       "       'Obesity_Type_I', 'Insufficient_Weight', 'Obesity_Type_II',\n",
       "       'Obesity_Type_III'], dtype=object)"
      ]
     },
     "execution_count": 35,
     "metadata": {},
     "output_type": "execute_result"
    }
   ],
   "source": [
    "# df[\"NObeyesdad\"]: Selects only the target column NObeyesdad\n",
    "# .unique(): Displays all the unique values present in this column + the data type of the column NObeyesdad\n",
    "df[\"NObeyesdad\"].unique()"
   ]
  },
  {
   "cell_type": "code",
   "execution_count": 36,
   "metadata": {},
   "outputs": [
    {
     "data": {
      "text/plain": [
       "\"\\nThis allows us to:\\n\\n- Identify the different classes your model will need to predict (Obese, Overweight, Normal Weight...).\\n- Check for errors or inconsistencies in the labels.\\n- Determine if it's a classification problem (because the target is categorical).\\n\\n\""
      ]
     },
     "execution_count": 36,
     "metadata": {},
     "output_type": "execute_result"
    }
   ],
   "source": [
    "'''\n",
    "This allows us to:\n",
    "\n",
    "- Identify the different classes your model will need to predict (Obese, Overweight, Normal Weight...).\n",
    "- Check for errors or inconsistencies in the labels.\n",
    "- Determine if it's a classification problem (because the target is categorical).\n",
    "\n",
    "'''"
   ]
  },
  {
   "cell_type": "markdown",
   "metadata": {},
   "source": [
    "- **value_counts():**"
   ]
  },
  {
   "cell_type": "code",
   "execution_count": 38,
   "metadata": {
    "colab": {
     "base_uri": "https://localhost:8080/",
     "height": 335
    },
    "id": "3SdjcoBA-X7z",
    "outputId": "4ab8ed72-1c8a-4180-85e8-94510dd65333"
   },
   "outputs": [
    {
     "data": {
      "text/plain": [
       "NObeyesdad\n",
       "Obesity_Type_I         351\n",
       "Obesity_Type_III       324\n",
       "Obesity_Type_II        297\n",
       "Overweight_Level_I     290\n",
       "Overweight_Level_II    290\n",
       "Normal_Weight          287\n",
       "Insufficient_Weight    272\n",
       "Name: count, dtype: int64"
      ]
     },
     "execution_count": 38,
     "metadata": {},
     "output_type": "execute_result"
    }
   ],
   "source": [
    "# The number of occurrences of each category in the NObeyesdad column\n",
    "\n",
    "# df[\"NObeyesdad\"]: Selects only the target column NObeyesdad\n",
    "# value_counts(): Count how many times each unique value appears in this column:\n",
    "# The index represents each unique value in this column (\"Obese,\" \"Overweight,\" \"Normal Weight,\" etc.)\n",
    "# The values represent the number of examples in each category (unique value)\n",
    "df[\"NObeyesdad\"].value_counts()"
   ]
  },
  {
   "cell_type": "code",
   "execution_count": 39,
   "metadata": {},
   "outputs": [
    {
     "data": {
      "text/plain": [
       "\"\\nWhy is this important?\\n\\n- Check for class imbalance (imbalanced dataset problem).\\n- An imbalance can distort the model's predictions, potentially favoring the majority class.\\n\\n\""
      ]
     },
     "execution_count": 39,
     "metadata": {},
     "output_type": "execute_result"
    }
   ],
   "source": [
    "'''\n",
    "Why is this important?\n",
    "\n",
    "- Check for class imbalance (imbalanced dataset problem).\n",
    "- An imbalance can distort the model's predictions, potentially favoring the majority class.\n",
    "\n",
    "'''"
   ]
  },
  {
   "cell_type": "markdown",
   "metadata": {},
   "source": [
    "### The variables\n",
    "\n",
    "#### Categorical variables: Gender & family_history_with_overweight"
   ]
  },
  {
   "cell_type": "code",
   "execution_count": 41,
   "metadata": {},
   "outputs": [
    {
     "data": {
      "text/plain": [
       "Gender\n",
       "Male      1068\n",
       "Female    1043\n",
       "Name: count, dtype: int64"
      ]
     },
     "execution_count": 41,
     "metadata": {},
     "output_type": "execute_result"
    }
   ],
   "source": [
    "df[\"Gender\"].value_counts()"
   ]
  },
  {
   "cell_type": "code",
   "execution_count": 42,
   "metadata": {},
   "outputs": [
    {
     "data": {
      "text/plain": [
       "'\\nThe column Gender is fairly distributed (50% each)\\n'"
      ]
     },
     "execution_count": 42,
     "metadata": {},
     "output_type": "execute_result"
    }
   ],
   "source": [
    "'''\n",
    "The column Gender is fairly distributed (50% each)\n",
    "'''"
   ]
  },
  {
   "cell_type": "code",
   "execution_count": 43,
   "metadata": {
    "colab": {
     "base_uri": "https://localhost:8080/",
     "height": 178
    },
    "id": "LnsNTtqj-qTx",
    "outputId": "00eca11e-3347-44ec-c7e7-d83ffcece88e"
   },
   "outputs": [
    {
     "data": {
      "text/plain": [
       "family_history_with_overweight\n",
       "yes    1726\n",
       "no      385\n",
       "Name: count, dtype: int64"
      ]
     },
     "execution_count": 43,
     "metadata": {},
     "output_type": "execute_result"
    }
   ],
   "source": [
    "df[\"family_history_with_overweight\"].value_counts()"
   ]
  },
  {
   "cell_type": "code",
   "execution_count": 44,
   "metadata": {},
   "outputs": [
    {
     "data": {
      "text/plain": [
       "'\\nThere are many people with family history (1726, compared to 385 without)\\nOverweight is not Obesity !!! Obesity is a disease\\n'"
      ]
     },
     "execution_count": 44,
     "metadata": {},
     "output_type": "execute_result"
    }
   ],
   "source": [
    "'''\n",
    "There are many people with family history (1726, compared to 385 without)\n",
    "Overweight is not Obesity !!! Obesity is a disease\n",
    "'''"
   ]
  },
  {
   "cell_type": "markdown",
   "metadata": {},
   "source": [
    "### pivot table(s)"
   ]
  },
  {
   "cell_type": "code",
   "execution_count": 46,
   "metadata": {
    "colab": {
     "base_uri": "https://localhost:8080/",
     "height": 300
    },
    "id": "3Vm0yViU_IjX",
    "outputId": "a5d1a625-29e0-46ed-8b7d-78e6cc6ea99d",
    "scrolled": true
   },
   "outputs": [
    {
     "data": {
      "text/html": [
       "<div>\n",
       "<style scoped>\n",
       "    .dataframe tbody tr th:only-of-type {\n",
       "        vertical-align: middle;\n",
       "    }\n",
       "\n",
       "    .dataframe tbody tr th {\n",
       "        vertical-align: top;\n",
       "    }\n",
       "\n",
       "    .dataframe thead th {\n",
       "        text-align: right;\n",
       "    }\n",
       "</style>\n",
       "<table border=\"1\" class=\"dataframe\">\n",
       "  <thead>\n",
       "    <tr style=\"text-align: right;\">\n",
       "      <th>family_history_with_overweight</th>\n",
       "      <th>no</th>\n",
       "      <th>yes</th>\n",
       "    </tr>\n",
       "    <tr>\n",
       "      <th>NObeyesdad</th>\n",
       "      <th></th>\n",
       "      <th></th>\n",
       "    </tr>\n",
       "  </thead>\n",
       "  <tbody>\n",
       "    <tr>\n",
       "      <th>Insufficient_Weight</th>\n",
       "      <td>146</td>\n",
       "      <td>126</td>\n",
       "    </tr>\n",
       "    <tr>\n",
       "      <th>Normal_Weight</th>\n",
       "      <td>132</td>\n",
       "      <td>155</td>\n",
       "    </tr>\n",
       "    <tr>\n",
       "      <th>Obesity_Type_I</th>\n",
       "      <td>7</td>\n",
       "      <td>344</td>\n",
       "    </tr>\n",
       "    <tr>\n",
       "      <th>Obesity_Type_II</th>\n",
       "      <td>1</td>\n",
       "      <td>296</td>\n",
       "    </tr>\n",
       "    <tr>\n",
       "      <th>Obesity_Type_III</th>\n",
       "      <td>0</td>\n",
       "      <td>324</td>\n",
       "    </tr>\n",
       "    <tr>\n",
       "      <th>Overweight_Level_I</th>\n",
       "      <td>81</td>\n",
       "      <td>209</td>\n",
       "    </tr>\n",
       "    <tr>\n",
       "      <th>Overweight_Level_II</th>\n",
       "      <td>18</td>\n",
       "      <td>272</td>\n",
       "    </tr>\n",
       "  </tbody>\n",
       "</table>\n",
       "</div>"
      ],
      "text/plain": [
       "family_history_with_overweight   no  yes\n",
       "NObeyesdad                              \n",
       "Insufficient_Weight             146  126\n",
       "Normal_Weight                   132  155\n",
       "Obesity_Type_I                    7  344\n",
       "Obesity_Type_II                   1  296\n",
       "Obesity_Type_III                  0  324\n",
       "Overweight_Level_I               81  209\n",
       "Overweight_Level_II              18  272"
      ]
     },
     "execution_count": 46,
     "metadata": {},
     "output_type": "execute_result"
    }
   ],
   "source": [
    "# df[\"NObeyesdad\"]: selects the target column (class to predict)\n",
    "# df[\"family_history_with_overweight\"]: selects an explanatory variable (presence or absence of a family history of overweight)\n",
    "\n",
    "# pd.crosstab(…): Creates a pivot table where:\n",
    "# The rows correspond to the categories of \"NObeyesdad\" (Insufficient_Weight,Normal_Weight,...)\n",
    "# The columns correspond to the values of \"family_history_with_overweight\" (yes, no)\n",
    "# The numerical values indicate the number of occurrences of each combination\n",
    "pd.crosstab(df[\"NObeyesdad\"], df[\"family_history_with_overweight\"])"
   ]
  },
  {
   "cell_type": "code",
   "execution_count": 47,
   "metadata": {},
   "outputs": [
    {
     "data": {
      "text/plain": [
       "\"\\nSo based on these observations, can we draw a general conclusion from this?\\n(That's the question a good DS must ask & have an answer to)\\n\\n- What we're seeing here is: are the results applicable to the population? What can I apply from these observations on the population?\\n- The chi-square test can't answer this question, it answers another type of question\\nThe chi-square test does the opposite: I form the hypothesis and then I take observations. Does that validate or invalidate my hypothesis?\\n\\n>>> That's not the same! & we need to understand that\\n\\nThis table:\\n- Allows us to analyze the influence of family history of overweight on obesity.\\n- Checks whether there is a strong correlation between these two variables.\\n- Helps us better understand the data distribution before training the model.\\n\\n\""
      ]
     },
     "execution_count": 47,
     "metadata": {},
     "output_type": "execute_result"
    }
   ],
   "source": [
    "'''\n",
    "So based on these observations, can we draw a general conclusion from this?\n",
    "(That's the question a good DS must ask & have an answer to)\n",
    "\n",
    "- What we're seeing here is: are the results applicable to the population? What can I apply from these observations on the population?\n",
    "- The chi-square test can't answer this question, it answers another type of question\n",
    "The chi-square test does the opposite: I form the hypothesis and then I take observations. Does that validate or invalidate my hypothesis?\n",
    "\n",
    ">>> That's not the same! & we need to understand that\n",
    "\n",
    "This table:\n",
    "- Allows us to analyze the influence of family history of overweight on obesity.\n",
    "- Checks whether there is a strong correlation between these two variables.\n",
    "- Helps us better understand the data distribution before training the model.\n",
    "\n",
    "'''"
   ]
  },
  {
   "cell_type": "markdown",
   "metadata": {},
   "source": [
    "**Key Observations:**\n",
    "\n",
    "**1. Insufficient Weight and normal-weight individuals are more balanced**\n",
    "\n",
    "- **Insufficient Weight:** 146 without a history (no), 126 with (yes) : Almost balanced distribution.\n",
    "- **Normal Weight:** 132 without (no), 155 with (yes) : Also balanced distribution.\n",
    "\n",
    "👉 Unlike obesity, **these categories are not strongly dependent on family history**.\n",
    "\n",
    "**2. Obesity is strongly associated with a family history of overweight**\n",
    "\n",
    "Almost all obese individuals have a family history of overweight:\n",
    "- **Obesity Type I :** 344 with a history (yes) versus only 7 without (no).\n",
    "- **Obesity Type II :** 296 with (yes), versus 1 without (no).\n",
    "- **Obesity Type III :** 324 with (yes), versus 0 without (no).\n",
    "\n",
    "👉 This suggests a **strong correlation between obesity and family history**.\n",
    "\n",
    "**3. Overweight is also influenced by family history**\n",
    "\n",
    "- **Overweight Level I:** 209 people with a history (yes), 81 without (no).\n",
    "- **Overweight Level II:** 272 with a history (yes), 18 without (no).\n",
    "\n",
    "👉 The higher the level of overweight, the greater the number of individuals with a family history of being overweight.\n",
    "\n",
    "🎯 **Conclusion:**\n",
    "\n",
    "**Family history of overweight is a key factor in obesity:**\n",
    "\n",
    "- Very strong correlation for obesity levels (Obesity Types I, II, and III).\n",
    "- Moderate correlation for overweight (Overweight Levels I and II).\n",
    "- Little influence for normal and underweight individuals."
   ]
  },
  {
   "cell_type": "markdown",
   "metadata": {},
   "source": [
    "#### Numerical variables:"
   ]
  },
  {
   "cell_type": "code",
   "execution_count": 50,
   "metadata": {},
   "outputs": [
    {
     "data": {
      "text/plain": [
       "Index(['Age', 'Height', 'Weight', 'FCVC', 'NCP', 'CH2O', 'FAF', 'TUE'], dtype='object')"
      ]
     },
     "execution_count": 50,
     "metadata": {},
     "output_type": "execute_result"
    }
   ],
   "source": [
    "# df.select_dtypes(exclude=\"object\"): selects only columns whose data type is NOT \"object\" (numeric columns)\n",
    "# .columns: extracts the names of these columns as a list of Pandas indexes\n",
    "df.select_dtypes(exclude=\"object\").columns"
   ]
  },
  {
   "cell_type": "code",
   "execution_count": 51,
   "metadata": {},
   "outputs": [
    {
     "data": {
      "image/png": "[encoded data removed]",
      "text/plain": [
       "<Figure size 640x480 with 1 Axes>"
      ]
     },
     "metadata": {},
     "output_type": "display_data"
    }
   ],
   "source": [
    "# Create a Scatter Plot\n",
    "\n",
    "# sns.scatterplot(df,...): creates a Scatter Plot using df as data\n",
    "# x=\"Height\" : the x-axis represents height\n",
    "# y=\"Weight\" : the y-axis represents weight\n",
    "sns.scatterplot(df, x=\"Height\", y=\"Weight\")\n",
    "\n",
    "#plt.show(): displays the graph\n",
    "plt.show()"
   ]
  },
  {
   "cell_type": "code",
   "execution_count": 52,
   "metadata": {},
   "outputs": [
    {
     "data": {
      "text/plain": [
       "'\\nWe see that there is a correlation between Height & Weight: the bigger the height, the bigger the weight (obviously!)\\n'"
      ]
     },
     "execution_count": 52,
     "metadata": {},
     "output_type": "execute_result"
    }
   ],
   "source": [
    "'''\n",
    "We see that there is a correlation between Height & Weight: the bigger the height, the bigger the weight (obviously!)\n",
    "'''"
   ]
  },
  {
   "cell_type": "code",
   "execution_count": 53,
   "metadata": {
    "colab": {
     "base_uri": "https://localhost:8080/",
     "height": 449
    },
    "id": "74L-f4BnAffv",
    "outputId": "f0e41438-6758-46be-ed7c-7ed9520d1cef"
   },
   "outputs": [
    {
     "data": {
      "image/png": "[encoded data removed]",
      "text/plain": [
       "<Figure size 640x480 with 1 Axes>"
      ]
     },
     "metadata": {},
     "output_type": "display_data"
    }
   ],
   "source": [
    "# Create a Scatter Plot\n",
    "\n",
    "# x=\"Height\" : the x-axis represents height\n",
    "# y=\"Weight\" : the y-axis represents weight\n",
    "# hue=\"NObeyesdad\" : the points are colored according to obesity category\n",
    "sns.scatterplot(df, x=\"Height\", y=\"Weight\", hue=\"NObeyesdad\")\n",
    "\n",
    "#plt.show(): displays the graph\n",
    "plt.show()"
   ]
  },
  {
   "cell_type": "code",
   "execution_count": 54,
   "metadata": {},
   "outputs": [
    {
     "data": {
      "text/plain": [
       "'\\nThe graph answers these questions:\\n\\n1)- Do the categories overlap?\\nIf the colors are mixed, it means the separation is unclear, which could make classification more difficult.\\n\\nHere we see that:\\n- Obese people have a higher weight for the same height.\\n- The \"Underweight\" and \"Normal Weight\" categories are lower in the graph.\\n\\n'"
      ]
     },
     "execution_count": 54,
     "metadata": {},
     "output_type": "execute_result"
    }
   ],
   "source": [
    "'''\n",
    "The graph answers these questions:\n",
    "\n",
    "1)- Do the categories overlap?\n",
    "If the colors are mixed, it means the separation is unclear, which could make classification more difficult.\n",
    "\n",
    "Here we see that:\n",
    "- Obese people have a higher weight for the same height.\n",
    "- The \"Underweight\" and \"Normal Weight\" categories are lower in the graph.\n",
    "\n",
    "'''"
   ]
  },
  {
   "cell_type": "code",
   "execution_count": 55,
   "metadata": {},
   "outputs": [
    {
     "data": {
      "text/plain": [
       "'\\nA very good data cleaning, preprocessing, data selection & data transformation can give us a dataset so obvious that\\nit can lead to conclusions about the relationships between the variables, and the importance of variables in prediction without even using an ML model,\\nit becomes so obvious that we may say to ourselves that we no longer need an ML model to predict!\\nBut we still need ML to know the function necessary for the model to do predictions.\\n\\n'"
      ]
     },
     "execution_count": 55,
     "metadata": {},
     "output_type": "execute_result"
    }
   ],
   "source": [
    "'''\n",
    "A very good data cleaning, preprocessing, data selection & data transformation can give us a dataset so obvious that\n",
    "it can lead to conclusions about the relationships between the variables, and the importance of variables in prediction without even using an ML model,\n",
    "it becomes so obvious that we may say to ourselves that we no longer need an ML model to predict!\n",
    "But we still need ML to know the function necessary for the model to do predictions.\n",
    "\n",
    "'''"
   ]
  },
  {
   "cell_type": "code",
   "execution_count": 56,
   "metadata": {},
   "outputs": [
    {
     "data": {
      "text/plain": [
       "'\\nHere in this project we assume that the dataset is cleaned and we investigated the variables,...etc\\n'"
      ]
     },
     "execution_count": 56,
     "metadata": {},
     "output_type": "execute_result"
    }
   ],
   "source": [
    "'''\n",
    "Here in this project we assume that the dataset is cleaned and we investigated the variables,...etc\n",
    "'''"
   ]
  },
  {
   "cell_type": "markdown",
   "metadata": {
    "id": "_kbgxKDkC_Je"
   },
   "source": [
    "# Machine Learning"
   ]
  },
  {
   "cell_type": "code",
   "execution_count": 58,
   "metadata": {},
   "outputs": [
    {
     "data": {
      "text/plain": [
       "'\\nNormally, it would be better to split the dataset into a train set and a test set, but here, for practical reasons,\\nwe prefer to first encode everything then make a train test and a test set with normalization, standardization, etc.\\n\\n'"
      ]
     },
     "execution_count": 58,
     "metadata": {},
     "output_type": "execute_result"
    }
   ],
   "source": [
    "'''\n",
    "Normally, it would be better to split the dataset into a train set and a test set, but here, for practical reasons,\n",
    "we prefer to first encode everything then make a train test and a test set with normalization, standardization, etc.\n",
    "\n",
    "'''"
   ]
  },
  {
   "cell_type": "code",
   "execution_count": 59,
   "metadata": {
    "colab": {
     "base_uri": "https://localhost:8080/"
    },
    "id": "kZfZrmZ0C-8f",
    "outputId": "85262b68-605a-45b2-9005-3aa2254c0eff"
   },
   "outputs": [
    {
     "data": {
      "text/html": [
       "<div>\n",
       "<style scoped>\n",
       "    .dataframe tbody tr th:only-of-type {\n",
       "        vertical-align: middle;\n",
       "    }\n",
       "\n",
       "    .dataframe tbody tr th {\n",
       "        vertical-align: top;\n",
       "    }\n",
       "\n",
       "    .dataframe thead th {\n",
       "        text-align: right;\n",
       "    }\n",
       "</style>\n",
       "<table border=\"1\" class=\"dataframe\">\n",
       "  <thead>\n",
       "    <tr style=\"text-align: right;\">\n",
       "      <th></th>\n",
       "      <th>Gender</th>\n",
       "      <th>family_history_with_overweight</th>\n",
       "      <th>FAVC</th>\n",
       "      <th>CAEC</th>\n",
       "      <th>SMOKE</th>\n",
       "      <th>SCC</th>\n",
       "      <th>CALC</th>\n",
       "      <th>MTRANS</th>\n",
       "      <th>NObeyesdad</th>\n",
       "    </tr>\n",
       "  </thead>\n",
       "  <tbody>\n",
       "    <tr>\n",
       "      <th>0</th>\n",
       "      <td>Female</td>\n",
       "      <td>yes</td>\n",
       "      <td>no</td>\n",
       "      <td>Sometimes</td>\n",
       "      <td>no</td>\n",
       "      <td>no</td>\n",
       "      <td>no</td>\n",
       "      <td>Public_Transportation</td>\n",
       "      <td>Normal_Weight</td>\n",
       "    </tr>\n",
       "    <tr>\n",
       "      <th>1</th>\n",
       "      <td>Female</td>\n",
       "      <td>yes</td>\n",
       "      <td>no</td>\n",
       "      <td>Sometimes</td>\n",
       "      <td>yes</td>\n",
       "      <td>yes</td>\n",
       "      <td>Sometimes</td>\n",
       "      <td>Public_Transportation</td>\n",
       "      <td>Normal_Weight</td>\n",
       "    </tr>\n",
       "    <tr>\n",
       "      <th>2</th>\n",
       "      <td>Male</td>\n",
       "      <td>yes</td>\n",
       "      <td>no</td>\n",
       "      <td>Sometimes</td>\n",
       "      <td>no</td>\n",
       "      <td>no</td>\n",
       "      <td>Frequently</td>\n",
       "      <td>Public_Transportation</td>\n",
       "      <td>Normal_Weight</td>\n",
       "    </tr>\n",
       "    <tr>\n",
       "      <th>3</th>\n",
       "      <td>Male</td>\n",
       "      <td>no</td>\n",
       "      <td>no</td>\n",
       "      <td>Sometimes</td>\n",
       "      <td>no</td>\n",
       "      <td>no</td>\n",
       "      <td>Frequently</td>\n",
       "      <td>Walking</td>\n",
       "      <td>Overweight_Level_I</td>\n",
       "    </tr>\n",
       "    <tr>\n",
       "      <th>4</th>\n",
       "      <td>Male</td>\n",
       "      <td>no</td>\n",
       "      <td>no</td>\n",
       "      <td>Sometimes</td>\n",
       "      <td>no</td>\n",
       "      <td>no</td>\n",
       "      <td>Sometimes</td>\n",
       "      <td>Public_Transportation</td>\n",
       "      <td>Overweight_Level_II</td>\n",
       "    </tr>\n",
       "  </tbody>\n",
       "</table>\n",
       "</div>"
      ],
      "text/plain": [
       "   Gender family_history_with_overweight FAVC       CAEC SMOKE  SCC  \\\n",
       "0  Female                            yes   no  Sometimes    no   no   \n",
       "1  Female                            yes   no  Sometimes   yes  yes   \n",
       "2    Male                            yes   no  Sometimes    no   no   \n",
       "3    Male                             no   no  Sometimes    no   no   \n",
       "4    Male                             no   no  Sometimes    no   no   \n",
       "\n",
       "         CALC                 MTRANS           NObeyesdad  \n",
       "0          no  Public_Transportation        Normal_Weight  \n",
       "1   Sometimes  Public_Transportation        Normal_Weight  \n",
       "2  Frequently  Public_Transportation        Normal_Weight  \n",
       "3  Frequently                Walking   Overweight_Level_I  \n",
       "4   Sometimes  Public_Transportation  Overweight_Level_II  "
      ]
     },
     "execution_count": 59,
     "metadata": {},
     "output_type": "execute_result"
    }
   ],
   "source": [
    "# df.select_dtypes(): returns a subset of df's columns based on the column dtypes\n",
    "# df.select_dtypes(include=\"object\"): selects only columns whose data type is \"object\" (text or categories) in df\n",
    "# head(): displays the first 5 lines of the result.\n",
    "df.select_dtypes(include=\"object\").head()\n",
    "\n",
    "# This allows us to isolate qualitative variables, which are not directly usable for a Machine Learning model"
   ]
  },
  {
   "cell_type": "code",
   "execution_count": 60,
   "metadata": {},
   "outputs": [
    {
     "data": {
      "text/plain": [
       "'\\nWhy is this useful?\\n- To identify the categorical variables in the dataset.\\n- To have a preview of the values to understand how they are represented (\"Yes\"/\"No\", \"Public_Transportation\"/\"Walking\").\\n- To anticipate the encoding (to transform these values into numbers).\\n\\n'"
      ]
     },
     "execution_count": 60,
     "metadata": {},
     "output_type": "execute_result"
    }
   ],
   "source": [
    "'''\n",
    "Why is this useful?\n",
    "- To identify the categorical variables in the dataset.\n",
    "- To have a preview of the values to understand how they are represented (\"Yes\"/\"No\", \"Public_Transportation\"/\"Walking\").\n",
    "- To anticipate the encoding (to transform these values into numbers).\n",
    "\n",
    "'''"
   ]
  },
  {
   "cell_type": "code",
   "execution_count": 61,
   "metadata": {
    "colab": {
     "base_uri": "https://localhost:8080/",
     "height": 240
    },
    "id": "BrR9XjWzC-6P",
    "outputId": "3e20ac4c-5593-4670-9cd7-3e5cf66b5813"
   },
   "outputs": [
    {
     "data": {
      "text/plain": [
       "CAEC\n",
       "Sometimes     1765\n",
       "Frequently     242\n",
       "Always          53\n",
       "no              51\n",
       "Name: count, dtype: int64"
      ]
     },
     "execution_count": 61,
     "metadata": {},
     "output_type": "execute_result"
    }
   ],
   "source": [
    "# CAEC: Frequency of consuming food between meals (Never, Sometimes, Frequently, Always)\n",
    "\n",
    "# df[\"CAEC\"]: selects the CAEC column from df\n",
    "# value_counts(): counts how many times each unique value appears in this column\n",
    "df[\"CAEC\"].value_counts()"
   ]
  },
  {
   "cell_type": "code",
   "execution_count": 62,
   "metadata": {},
   "outputs": [
    {
     "data": {
      "text/plain": [
       "'\\nWhy is this important?\\n- Check the distribution of values to see if one category is dominant.\\n- Identify whether this variable can influence obesity (more snacking = greater risk?).\\n- Prepare the encoding of categorical variables (LabelEncoder or OneHotEncoder).\\n\\n\\nHere we have:\\nthe values Sometimes, Frequently,... show us that there is a logical order in this variable (CAEC)\\nSo, it is not relevant to use OrdinalEncoder or OneHotEncoder\\nThis will increase the number of columns in the data set, and this will cause overfitting problems, etc.\\nThat must absolutely be avoided. It is much better to exploit the fact of having an order in all our data.\\nSo for that, what we are going to do is use a mapping function (encoding)\\n\\n'"
      ]
     },
     "execution_count": 62,
     "metadata": {},
     "output_type": "execute_result"
    }
   ],
   "source": [
    "'''\n",
    "Why is this important?\n",
    "- Check the distribution of values to see if one category is dominant.\n",
    "- Identify whether this variable can influence obesity (more snacking = greater risk?).\n",
    "- Prepare the encoding of categorical variables (LabelEncoder or OneHotEncoder).\n",
    "\n",
    "\n",
    "Here we have:\n",
    "the values Sometimes, Frequently,... show us that there is a logical order in this variable (CAEC)\n",
    "So, it is not relevant to use OrdinalEncoder or OneHotEncoder\n",
    "This will increase the number of columns in the data set, and this will cause overfitting problems, etc.\n",
    "That must absolutely be avoided. It is much better to exploit the fact of having an order in all our data.\n",
    "So for that, what we are going to do is use a mapping function (encoding)\n",
    "\n",
    "'''"
   ]
  },
  {
   "cell_type": "markdown",
   "metadata": {},
   "source": [
    "**This code converts the text categories in the CAEC column into numeric values ​​so that they can be used by a Machine Learning model:**"
   ]
  },
  {
   "cell_type": "code",
   "execution_count": 64,
   "metadata": {
    "id": "3WhzZEiODnzI"
   },
   "outputs": [],
   "source": [
    "# Create the encoding dictionary\n",
    "\n",
    "# Associate each text category with a number:\n",
    "# The higher the value, the greater the frequency of food consumption between meals\n",
    "encoding = {\"no\": 0, \"Sometimes\": 1, \"Frequently\": 2, \"Always\": 3}\n",
    "\n",
    "# df[\"CAEC\"].map(encoding): replaces each value in df[\"CAEC\"] with its numeric equivalent\n",
    "df[\"CAEC\"] = df[\"CAEC\"].map(encoding)"
   ]
  },
  {
   "cell_type": "code",
   "execution_count": 65,
   "metadata": {},
   "outputs": [
    {
     "data": {
      "text/plain": [
       "\"\\nEncoding:\\nHere we have: the higher the value, the greater the frequency of food consumption between meals\\n\\nEncoding in one direction or another may very well have an effect on the ML model (it's totally possible!):\\nFor example, in another project we can encode in a certain direction & obtain a weak model,\\nbut obtain a higher performing model if we did the encoding in the opposite direction\\n\\n\""
      ]
     },
     "execution_count": 65,
     "metadata": {},
     "output_type": "execute_result"
    }
   ],
   "source": [
    "'''\n",
    "Encoding:\n",
    "Here we have: the higher the value, the greater the frequency of food consumption between meals\n",
    "\n",
    "Encoding in one direction or another may very well have an effect on the ML model (it's totally possible!):\n",
    "For example, in another project we can encode in a certain direction & obtain a weak model,\n",
    "but obtain a higher performing model if we did the encoding in the opposite direction\n",
    "\n",
    "'''"
   ]
  },
  {
   "cell_type": "code",
   "execution_count": 66,
   "metadata": {
    "scrolled": true
   },
   "outputs": [
    {
     "data": {
      "text/plain": [
       "CAEC\n",
       "1    1765\n",
       "2     242\n",
       "3      53\n",
       "0      51\n",
       "Name: count, dtype: int64"
      ]
     },
     "execution_count": 66,
     "metadata": {},
     "output_type": "execute_result"
    }
   ],
   "source": [
    "# Verify the results\n",
    "\n",
    "# df[\"CAEC\"]: selects the CAEC column from df\n",
    "# value_counts(): counts how many times each unique value appears in this column\n",
    "# \"no\": 0, \"Sometimes\": 1, \"Frequently\": 2, \"Always\": 3\n",
    "df[\"CAEC\"].value_counts()"
   ]
  },
  {
   "cell_type": "code",
   "execution_count": 67,
   "metadata": {},
   "outputs": [
    {
     "data": {
      "text/plain": [
       "CALC\n",
       "Sometimes     1401\n",
       "no             639\n",
       "Frequently      70\n",
       "Always           1\n",
       "Name: count, dtype: int64"
      ]
     },
     "execution_count": 67,
     "metadata": {},
     "output_type": "execute_result"
    }
   ],
   "source": [
    "# df[\"CALC\"]: selects the CALC column from df\n",
    "# value_counts(): counts how many times each unique value appears in this column\n",
    "df[\"CALC\"].value_counts()"
   ]
  },
  {
   "cell_type": "code",
   "execution_count": 68,
   "metadata": {
    "id": "cnQbCZrREqHD"
   },
   "outputs": [],
   "source": [
    "#encoding of the colmn CALC\n",
    "# CALC: Frequency of alcohol consumption (Never, Sometimes, Frequently, Always)\n",
    "\n",
    "# df[\"CALC\"]: selects the CALC column from df\n",
    "# value_counts(): counts how many times each unique value appears in this column\n",
    "# map(encoding): replaces each CAEC value with its numeric equivalent\n",
    "df[\"CALC\"] = df[\"CALC\"].map(encoding)"
   ]
  },
  {
   "cell_type": "code",
   "execution_count": 69,
   "metadata": {},
   "outputs": [
    {
     "data": {
      "text/plain": [
       "CALC\n",
       "1    1401\n",
       "0     639\n",
       "2      70\n",
       "3       1\n",
       "Name: count, dtype: int64"
      ]
     },
     "execution_count": 69,
     "metadata": {},
     "output_type": "execute_result"
    }
   ],
   "source": [
    "# Verify the results\n",
    "\n",
    "# df[\"CALC\"]: selects the CAEC column from df\n",
    "# value_counts(): counts how many times each unique value appears in this column\n",
    "# \"no\": 0, \"Sometimes\": 1, \"Frequently\": 2, \"Always\": 3\n",
    "df[\"CALC\"].value_counts()"
   ]
  },
  {
   "cell_type": "code",
   "execution_count": 70,
   "metadata": {},
   "outputs": [
    {
     "data": {
      "text/plain": [
       "'\\nWhy use map() for yes/no variables instead of OneHotEncoder or LabelEncoder?\\nWhen a categorical variable has only two values (yes/no, true/false, male/female, etc.), we often prefer to use map() instead of OneHotEncoder or LabelEncoder\\nHere\\'s why:\\n\\n- It\\'s simple and clear: We directly replace \"no\" with 0 and \"yes\" with 1.\\n- It\\'s fast: No need to import LabelEncoder or OneHotEncoder.\\n- Models understand binary values ••(0/1) and can use them directly.\\n\\nWhy avoid OneHotEncoder for yes/no?\\nOneHotEncoder creates a new column for each unique value, which is unnecessary for a binary variable!\\n\\nExplanation:\\n- It creates two columns (is_no, is_yes), when only one is enough (0/1).\\n- It increases the size of the dataset for no reason.\\n- For a binary variable, a single column already encodes all the information\\n\\nConclusion:\\n- For yes/no: use map()\\n- For categories with multiple classes: use LabelEncoder\\n- For categories with no logical order: use OneHotEncoder\\n\\n'"
      ]
     },
     "execution_count": 70,
     "metadata": {},
     "output_type": "execute_result"
    }
   ],
   "source": [
    "'''\n",
    "Why use map() for yes/no variables instead of OneHotEncoder or LabelEncoder?\n",
    "When a categorical variable has only two values (yes/no, true/false, male/female, etc.), we often prefer to use map() instead of OneHotEncoder or LabelEncoder\n",
    "Here's why:\n",
    "\n",
    "- It's simple and clear: We directly replace \"no\" with 0 and \"yes\" with 1.\n",
    "- It's fast: No need to import LabelEncoder or OneHotEncoder.\n",
    "- Models understand binary values ••(0/1) and can use them directly.\n",
    "\n",
    "Why avoid OneHotEncoder for yes/no?\n",
    "OneHotEncoder creates a new column for each unique value, which is unnecessary for a binary variable!\n",
    "\n",
    "Explanation:\n",
    "- It creates two columns (is_no, is_yes), when only one is enough (0/1).\n",
    "- It increases the size of the dataset for no reason.\n",
    "- For a binary variable, a single column already encodes all the information\n",
    "\n",
    "Conclusion:\n",
    "- For yes/no: use map()\n",
    "- For categories with multiple classes: use LabelEncoder\n",
    "- For categories with no logical order: use OneHotEncoder\n",
    "\n",
    "'''"
   ]
  },
  {
   "cell_type": "code",
   "execution_count": 71,
   "metadata": {
    "colab": {
     "base_uri": "https://localhost:8080/",
     "height": 272
    },
    "id": "r5z-ryWUEsPz",
    "outputId": "b4808a00-f9af-4ce7-d35a-be6ccbf45858"
   },
   "outputs": [
    {
     "data": {
      "text/plain": [
       "MTRANS\n",
       "Public_Transportation    1580\n",
       "Automobile                457\n",
       "Walking                    56\n",
       "Motorbike                  11\n",
       "Bike                        7\n",
       "Name: count, dtype: int64"
      ]
     },
     "execution_count": 71,
     "metadata": {},
     "output_type": "execute_result"
    }
   ],
   "source": [
    "# MTRANS: Main mode of transportation (Automobile, Bike, Motorbike, Public Transportation, Walking)\n",
    "\n",
    "# df[\"MTRANS\"]: selects the MTRANS column from df\n",
    "# value_counts(): counts how many times each unique value appears in this column\n",
    "df[\"MTRANS\"].value_counts()"
   ]
  },
  {
   "cell_type": "code",
   "execution_count": 72,
   "metadata": {},
   "outputs": [
    {
     "data": {
      "text/plain": [
       "'\\nWe can encode this variable based on speed, or activity (highlighting the physical effort), or even motorized/non-motorized,...etc\\nand just by doing that, we can come up with interesting conclusions/hypotheses, This kind of thinking is important for success,\\nbut then we always have to test our hypotheses.\\n'"
      ]
     },
     "execution_count": 72,
     "metadata": {},
     "output_type": "execute_result"
    }
   ],
   "source": [
    "'''\n",
    "We can encode this variable based on speed, or activity (highlighting the physical effort), or even motorized/non-motorized,...etc\n",
    "and just by doing that, we can come up with interesting conclusions/hypotheses, This kind of thinking is important for success,\n",
    "but then we always have to test our hypotheses.\n",
    "'''"
   ]
  },
  {
   "cell_type": "code",
   "execution_count": 73,
   "metadata": {
    "id": "E7Wy2eTwGJB0"
   },
   "outputs": [],
   "source": [
    "# X: Matrix of features\n",
    "\n",
    "# FCVC: Frequency of Consumption of Vegetables\n",
    "# NCP: Number of main meals per day\n",
    "# CAEC: Consumption of food between meals (already encoded in 0-3)\n",
    "# CH2O: Consommation quotidienne d’eau\n",
    "# FAF: Physical Activity Frequency\n",
    "# TUE: Time using technology devices\n",
    "# CALC: Consumption of alcohol (already encoded in 0-3)\n",
    "X = df[['Age', 'FCVC', 'NCP', 'CAEC', 'CH2O', 'FAF', 'TUE', 'CALC']]\n",
    "\n",
    "# y: Target variable\n",
    "y = df['NObeyesdad']"
   ]
  },
  {
   "cell_type": "code",
   "execution_count": 74,
   "metadata": {},
   "outputs": [
    {
     "data": {
      "text/plain": [
       "'\\nWhy select these variables?\\n- They are known risk factors influencing weight and obesity.\\n- They are numeric or already encoded, therefore can be directly used by an ML model.\\n- Reducing the number of variables can improve model performance and prevent overfitting.\\n\\n'"
      ]
     },
     "execution_count": 74,
     "metadata": {},
     "output_type": "execute_result"
    }
   ],
   "source": [
    "'''\n",
    "Why select these variables?\n",
    "- They are known risk factors influencing weight and obesity.\n",
    "- They are numeric or already encoded, therefore can be directly used by an ML model.\n",
    "- Reducing the number of variables can improve model performance and prevent overfitting.\n",
    "\n",
    "'''"
   ]
  },
  {
   "cell_type": "code",
   "execution_count": 75,
   "metadata": {},
   "outputs": [
    {
     "data": {
      "text/html": [
       "<div>\n",
       "<style scoped>\n",
       "    .dataframe tbody tr th:only-of-type {\n",
       "        vertical-align: middle;\n",
       "    }\n",
       "\n",
       "    .dataframe tbody tr th {\n",
       "        vertical-align: top;\n",
       "    }\n",
       "\n",
       "    .dataframe thead th {\n",
       "        text-align: right;\n",
       "    }\n",
       "</style>\n",
       "<table border=\"1\" class=\"dataframe\">\n",
       "  <thead>\n",
       "    <tr style=\"text-align: right;\">\n",
       "      <th></th>\n",
       "      <th>Age</th>\n",
       "      <th>FCVC</th>\n",
       "      <th>NCP</th>\n",
       "      <th>CAEC</th>\n",
       "      <th>CH2O</th>\n",
       "      <th>FAF</th>\n",
       "      <th>TUE</th>\n",
       "      <th>CALC</th>\n",
       "    </tr>\n",
       "  </thead>\n",
       "  <tbody>\n",
       "    <tr>\n",
       "      <th>0</th>\n",
       "      <td>21</td>\n",
       "      <td>2.0</td>\n",
       "      <td>3.0</td>\n",
       "      <td>1</td>\n",
       "      <td>2.0</td>\n",
       "      <td>0.0</td>\n",
       "      <td>1.0</td>\n",
       "      <td>0</td>\n",
       "    </tr>\n",
       "    <tr>\n",
       "      <th>1</th>\n",
       "      <td>21</td>\n",
       "      <td>3.0</td>\n",
       "      <td>3.0</td>\n",
       "      <td>1</td>\n",
       "      <td>3.0</td>\n",
       "      <td>3.0</td>\n",
       "      <td>0.0</td>\n",
       "      <td>1</td>\n",
       "    </tr>\n",
       "    <tr>\n",
       "      <th>2</th>\n",
       "      <td>23</td>\n",
       "      <td>2.0</td>\n",
       "      <td>3.0</td>\n",
       "      <td>1</td>\n",
       "      <td>2.0</td>\n",
       "      <td>2.0</td>\n",
       "      <td>1.0</td>\n",
       "      <td>2</td>\n",
       "    </tr>\n",
       "    <tr>\n",
       "      <th>3</th>\n",
       "      <td>27</td>\n",
       "      <td>3.0</td>\n",
       "      <td>3.0</td>\n",
       "      <td>1</td>\n",
       "      <td>2.0</td>\n",
       "      <td>2.0</td>\n",
       "      <td>0.0</td>\n",
       "      <td>2</td>\n",
       "    </tr>\n",
       "    <tr>\n",
       "      <th>4</th>\n",
       "      <td>22</td>\n",
       "      <td>2.0</td>\n",
       "      <td>1.0</td>\n",
       "      <td>1</td>\n",
       "      <td>2.0</td>\n",
       "      <td>0.0</td>\n",
       "      <td>0.0</td>\n",
       "      <td>1</td>\n",
       "    </tr>\n",
       "  </tbody>\n",
       "</table>\n",
       "</div>"
      ],
      "text/plain": [
       "   Age  FCVC  NCP  CAEC  CH2O  FAF  TUE  CALC\n",
       "0   21   2.0  3.0     1   2.0  0.0  1.0     0\n",
       "1   21   3.0  3.0     1   3.0  3.0  0.0     1\n",
       "2   23   2.0  3.0     1   2.0  2.0  1.0     2\n",
       "3   27   3.0  3.0     1   2.0  2.0  0.0     2\n",
       "4   22   2.0  1.0     1   2.0  0.0  0.0     1"
      ]
     },
     "execution_count": 75,
     "metadata": {},
     "output_type": "execute_result"
    }
   ],
   "source": [
    "# 5 first rows of X\n",
    "X.head()"
   ]
  },
  {
   "cell_type": "code",
   "execution_count": 76,
   "metadata": {
    "id": "PN8TQLcaGpxG"
   },
   "outputs": [],
   "source": [
    "# Creating an encoder\n",
    "\n",
    "#LabelEncoder(): creates an encoder that will transform categorical values into numerical values\n",
    "encoder = LabelEncoder()\n",
    "\n",
    "# Transforming the categories in df[\"NObeyesdad\"] into numbers\n",
    "\n",
    "# fit(): learns the different categories present in the column\n",
    "# transform(): converts each value to a single number\n",
    "# new_y: is a numeric array that the model can use\n",
    "new_y = encoder.fit_transform(df[\"NObeyesdad\"])"
   ]
  },
  {
   "cell_type": "code",
   "execution_count": 77,
   "metadata": {},
   "outputs": [
    {
     "data": {
      "text/plain": [
       "'\\nWhy LabelEncoder and not OneHotEncoder?\\n\\n- LabelEncoder is suitable for multi-class classification (more than two categories).\\n- Simpler and more compact: new_y remains a 1D vector instead of a matrix.\\n- Some models (SVM, Neural Networks) prefer this format to OneHotEncoding.\\n\\n'"
      ]
     },
     "execution_count": 77,
     "metadata": {},
     "output_type": "execute_result"
    }
   ],
   "source": [
    "'''\n",
    "Why LabelEncoder and not OneHotEncoder?\n",
    "\n",
    "- LabelEncoder is suitable for multi-class classification (more than two categories).\n",
    "- Simpler and more compact: new_y remains a 1D vector instead of a matrix.\n",
    "- Some models (SVM, Neural Networks) prefer this format to OneHotEncoding.\n",
    "\n",
    "'''"
   ]
  },
  {
   "cell_type": "code",
   "execution_count": 78,
   "metadata": {
    "id": "IPvxCEppHLHb"
   },
   "outputs": [],
   "source": [
    "# Dividing the data into two sets:\n",
    "# train_test_split(): splits arrays or matrices into random train and test subsets\n",
    "# X_train and y_train: Used to train the model\n",
    "# X_test and y_test: Used to evaluate the model's performance on unknown data\n",
    "# test_size=0.25: 25% of the data will be used for testing and 75% for training\n",
    "X_train, X_test, y_train, y_test = train_test_split(X, new_y, test_size=0.25)"
   ]
  },
  {
   "cell_type": "code",
   "execution_count": 79,
   "metadata": {},
   "outputs": [
    {
     "data": {
      "text/plain": [
       "(2111, 8)"
      ]
     },
     "execution_count": 79,
     "metadata": {},
     "output_type": "execute_result"
    }
   ],
   "source": [
    "# X: Matrix of features\n",
    "X.shape"
   ]
  },
  {
   "cell_type": "code",
   "execution_count": 80,
   "metadata": {},
   "outputs": [
    {
     "data": {
      "text/plain": [
       "(1583, 8)"
      ]
     },
     "execution_count": 80,
     "metadata": {},
     "output_type": "execute_result"
    }
   ],
   "source": [
    "# X_train: Matrix of features used to to train the model\n",
    "X_train.shape"
   ]
  },
  {
   "cell_type": "code",
   "execution_count": 81,
   "metadata": {
    "colab": {
     "base_uri": "https://localhost:8080/"
    },
    "id": "SDwRTAg7HS3L",
    "outputId": "e4cc74db-1f3e-4023-c911-3eb0ee62d8ea"
   },
   "outputs": [
    {
     "data": {
      "text/plain": [
       "(528, 8)"
      ]
     },
     "execution_count": 81,
     "metadata": {},
     "output_type": "execute_result"
    }
   ],
   "source": [
    "# X_test: Matrix of features used to evaluate the model's performance based on unknown data\n",
    "X_test.shape"
   ]
  },
  {
   "cell_type": "code",
   "execution_count": 82,
   "metadata": {},
   "outputs": [
    {
     "data": {
      "text/plain": [
       "(2111,)"
      ]
     },
     "execution_count": 82,
     "metadata": {},
     "output_type": "execute_result"
    }
   ],
   "source": [
    "# y: Target variable\n",
    "y.shape"
   ]
  },
  {
   "cell_type": "code",
   "execution_count": 83,
   "metadata": {},
   "outputs": [
    {
     "data": {
      "text/plain": [
       "(1583,)"
      ]
     },
     "execution_count": 83,
     "metadata": {},
     "output_type": "execute_result"
    }
   ],
   "source": [
    "# y_train: the amount of data (from y) used to to train the model\n",
    "y_train.shape"
   ]
  },
  {
   "cell_type": "code",
   "execution_count": 84,
   "metadata": {},
   "outputs": [
    {
     "data": {
      "text/plain": [
       "(528,)"
      ]
     },
     "execution_count": 84,
     "metadata": {},
     "output_type": "execute_result"
    }
   ],
   "source": [
    "# y_test: the amount of data (from y) used to evaluate the model's performance based on unknown data\n",
    "y_test.shape"
   ]
  },
  {
   "cell_type": "code",
   "execution_count": 85,
   "metadata": {
    "colab": {
     "base_uri": "https://localhost:8080/",
     "height": 423
    },
    "id": "gbks7kZPH2DX",
    "outputId": "c0d1cf5d-fe64-4080-809f-3546227d38dc"
   },
   "outputs": [
    {
     "data": {
      "text/html": [
       "<div>\n",
       "<style scoped>\n",
       "    .dataframe tbody tr th:only-of-type {\n",
       "        vertical-align: middle;\n",
       "    }\n",
       "\n",
       "    .dataframe tbody tr th {\n",
       "        vertical-align: top;\n",
       "    }\n",
       "\n",
       "    .dataframe thead th {\n",
       "        text-align: right;\n",
       "    }\n",
       "</style>\n",
       "<table border=\"1\" class=\"dataframe\">\n",
       "  <thead>\n",
       "    <tr style=\"text-align: right;\">\n",
       "      <th></th>\n",
       "      <th>Age</th>\n",
       "      <th>FCVC</th>\n",
       "      <th>NCP</th>\n",
       "      <th>CAEC</th>\n",
       "      <th>CH2O</th>\n",
       "      <th>FAF</th>\n",
       "      <th>TUE</th>\n",
       "      <th>CALC</th>\n",
       "    </tr>\n",
       "  </thead>\n",
       "  <tbody>\n",
       "    <tr>\n",
       "      <th>0</th>\n",
       "      <td>21</td>\n",
       "      <td>2.0</td>\n",
       "      <td>3.0</td>\n",
       "      <td>1</td>\n",
       "      <td>2.0</td>\n",
       "      <td>0.0</td>\n",
       "      <td>1.0</td>\n",
       "      <td>0</td>\n",
       "    </tr>\n",
       "    <tr>\n",
       "      <th>1</th>\n",
       "      <td>21</td>\n",
       "      <td>3.0</td>\n",
       "      <td>3.0</td>\n",
       "      <td>1</td>\n",
       "      <td>3.0</td>\n",
       "      <td>3.0</td>\n",
       "      <td>0.0</td>\n",
       "      <td>1</td>\n",
       "    </tr>\n",
       "    <tr>\n",
       "      <th>2</th>\n",
       "      <td>23</td>\n",
       "      <td>2.0</td>\n",
       "      <td>3.0</td>\n",
       "      <td>1</td>\n",
       "      <td>2.0</td>\n",
       "      <td>2.0</td>\n",
       "      <td>1.0</td>\n",
       "      <td>2</td>\n",
       "    </tr>\n",
       "    <tr>\n",
       "      <th>3</th>\n",
       "      <td>27</td>\n",
       "      <td>3.0</td>\n",
       "      <td>3.0</td>\n",
       "      <td>1</td>\n",
       "      <td>2.0</td>\n",
       "      <td>2.0</td>\n",
       "      <td>0.0</td>\n",
       "      <td>2</td>\n",
       "    </tr>\n",
       "    <tr>\n",
       "      <th>4</th>\n",
       "      <td>22</td>\n",
       "      <td>2.0</td>\n",
       "      <td>1.0</td>\n",
       "      <td>1</td>\n",
       "      <td>2.0</td>\n",
       "      <td>0.0</td>\n",
       "      <td>0.0</td>\n",
       "      <td>1</td>\n",
       "    </tr>\n",
       "  </tbody>\n",
       "</table>\n",
       "</div>"
      ],
      "text/plain": [
       "   Age  FCVC  NCP  CAEC  CH2O  FAF  TUE  CALC\n",
       "0   21   2.0  3.0     1   2.0  0.0  1.0     0\n",
       "1   21   3.0  3.0     1   3.0  3.0  0.0     1\n",
       "2   23   2.0  3.0     1   2.0  2.0  1.0     2\n",
       "3   27   3.0  3.0     1   2.0  2.0  0.0     2\n",
       "4   22   2.0  1.0     1   2.0  0.0  0.0     1"
      ]
     },
     "execution_count": 85,
     "metadata": {},
     "output_type": "execute_result"
    }
   ],
   "source": [
    "#X: Matrix of features\n",
    "X.head()"
   ]
  },
  {
   "cell_type": "markdown",
   "metadata": {},
   "source": [
    "### Normalization with StandardScaler\n",
    "\n",
    "Applying feature scaling (normalization) to the training data to improve model performance"
   ]
  },
  {
   "cell_type": "code",
   "execution_count": 87,
   "metadata": {
    "id": "OcrXPe31HT8o"
   },
   "outputs": [],
   "source": [
    "# Create the standardizer (scaler)\n",
    "# StandardScaler(): Creates a scaler object that will standardize the data.\n",
    "# This standardization transforms each variable so that it has: a mean of 0 & a standard deviation of 1\n",
    "scaler = StandardScaler()\n",
    "\n",
    "# Learning + data transformation\n",
    "# fit(X_train): learns the mean and standard deviation of each column from X_train\n",
    "# transform(X_train): applies this transformation to X_train\n",
    "# X_train_scaled: contains the same data, but scaled\n",
    "X_train_scaled = scaler.fit_transform(X_train)"
   ]
  },
  {
   "cell_type": "code",
   "execution_count": 88,
   "metadata": {},
   "outputs": [
    {
     "data": {
      "text/plain": [
       "'\\nWhy normalize after the train_test_split() and not before?\\nThat\\'s a good question, and it\\'s a very important point in machine learning!\\n\\nProblem if we normalize before splitting\\nIf we apply StandardScaler() before splitting the data into train and test, then:\\n- The StandardScaler will use the entire dataset to calculate the mean and standard deviation.\\n- When we split the data into train and test, the test data will have been influenced by the training data.\\n- In real life, when making predictions, we can\\'t know the complete distribution of the data in advance.\\n>>> This introduces a \"data leakage\", which distorts the evaluation of the model, because it\\'s going to be a little bit better than it\\'s supposed to be.\\n\\nWhy normalize after the train_test_split()?\\n- We train the model only on data it would have seen in a real-world scenario.\\n- We calculate the mean and standard deviation on X_train only, so that the test data remain independent.\\n- When we apply scaler.transform(X_test), we use the same parameters learned on X_train, without bias.\\n\\nConclusion:\\n- Always normalize after separating the data into train and test data\\n- Avoid introducing test information into the training data\\n- Ensure a realistic model evaluation\\n\\n'"
      ]
     },
     "execution_count": 88,
     "metadata": {},
     "output_type": "execute_result"
    }
   ],
   "source": [
    "'''\n",
    "Why normalize after the train_test_split() and not before?\n",
    "That's a good question, and it's a very important point in machine learning!\n",
    "\n",
    "Problem if we normalize before splitting\n",
    "If we apply StandardScaler() before splitting the data into train and test, then:\n",
    "- The StandardScaler will use the entire dataset to calculate the mean and standard deviation.\n",
    "- When we split the data into train and test, the test data will have been influenced by the training data.\n",
    "- In real life, when making predictions, we can't know the complete distribution of the data in advance.\n",
    ">>> This introduces a \"data leakage\", which distorts the evaluation of the model, because it's going to be a little bit better than it's supposed to be.\n",
    "\n",
    "Why normalize after the train_test_split()?\n",
    "- We train the model only on data it would have seen in a real-world scenario.\n",
    "- We calculate the mean and standard deviation on X_train only, so that the test data remain independent.\n",
    "- When we apply scaler.transform(X_test), we use the same parameters learned on X_train, without bias.\n",
    "\n",
    "Conclusion:\n",
    "- Always normalize after separating the data into train and test data\n",
    "- Avoid introducing test information into the training data\n",
    "- Ensure a realistic model evaluation\n",
    "\n",
    "'''"
   ]
  },
  {
   "cell_type": "code",
   "execution_count": 89,
   "metadata": {},
   "outputs": [
    {
     "data": {
      "text/plain": [
       "array([[-0.36317701, -2.64283572, -2.16186384, ..., -1.18347868,\n",
       "         2.20591514,  0.53238278],\n",
       "       [-0.83817772, -0.76597834,  0.40468068, ...,  0.00331372,\n",
       "        -1.08581582,  0.53238278],\n",
       "       [-0.20484343,  1.11087904, -2.16186384, ...,  1.56987969,\n",
       "        -1.08581582,  0.53238278],\n",
       "       ...,\n",
       "       [ 0.27015728,  1.11087904,  0.40468068, ..., -1.18347868,\n",
       "        -0.91793754,  0.53238278],\n",
       "       [-0.83817772, -0.76597834,  0.40468068, ...,  0.00331372,\n",
       "        -1.08581582, -1.43668719],\n",
       "       [-0.83817772, -0.76597834,  1.68795294, ...,  1.19010612,\n",
       "         0.56004966,  0.53238278]])"
      ]
     },
     "execution_count": 89,
     "metadata": {},
     "output_type": "execute_result"
    }
   ],
   "source": [
    "# Verify the results\n",
    "X_train_scaled"
   ]
  },
  {
   "cell_type": "code",
   "execution_count": 90,
   "metadata": {},
   "outputs": [
    {
     "data": {
      "text/plain": [
       "'\\nWhy standardize data?\\n- Prevents one variable from dominating the others exp: age ranges from 10 to 80 years, while FCVC (vegetable frequency) is between 0 and 3\\n- Improves algorithm convergence: Some models (such as logistic regression, SVM, KNN) are scale-sensitive\\n- Useful for distance-based methods: KNN, PCA, Neural Networks, etc\\n\\n'"
      ]
     },
     "execution_count": 90,
     "metadata": {},
     "output_type": "execute_result"
    }
   ],
   "source": [
    "'''\n",
    "Why standardize data?\n",
    "- Prevents one variable from dominating the others exp: age ranges from 10 to 80 years, while FCVC (vegetable frequency) is between 0 and 3\n",
    "- Improves algorithm convergence: Some models (such as logistic regression, SVM, KNN) are scale-sensitive\n",
    "- Useful for distance-based methods: KNN, PCA, Neural Networks, etc\n",
    "\n",
    "'''"
   ]
  },
  {
   "cell_type": "markdown",
   "metadata": {},
   "source": [
    "- Let's verify the efficiency of scaling the Features in the train set with min(axis=0) & max(axis=0)"
   ]
  },
  {
   "cell_type": "code",
   "execution_count": 92,
   "metadata": {},
   "outputs": [
    {
     "data": {
      "text/plain": [
       "array([-1.62984558, -2.64283572, -2.16186384, -2.48439601, -1.67522915,\n",
       "       -1.18347868, -1.08581582, -1.43668719])"
      ]
     },
     "execution_count": 92,
     "metadata": {},
     "output_type": "execute_result"
    }
   ],
   "source": [
    "# show the minimal value in X_train_scaled according to axis=0 (in each column)\n",
    "X_train_scaled.min(axis=0)"
   ]
  },
  {
   "cell_type": "code",
   "execution_count": 93,
   "metadata": {
    "scrolled": true
   },
   "outputs": [
    {
     "data": {
      "text/plain": [
       "array([5.8118323 , 1.11087904, 1.68795294, 4.10688704, 1.61920504,\n",
       "       2.37689852, 2.20591514, 4.47052273])"
      ]
     },
     "execution_count": 93,
     "metadata": {},
     "output_type": "execute_result"
    }
   ],
   "source": [
    "# show the maximal value in X_train_scaled according to axis=0 (in each column)\n",
    "X_train_scaled.max(axis=0)"
   ]
  },
  {
   "cell_type": "code",
   "execution_count": 94,
   "metadata": {},
   "outputs": [
    {
     "data": {
      "text/plain": [
       "'\\nWe see that the values of the features in the train set go from -2,68 to 4.40 which is good!\\nIt will help us developp our ML model\\n'"
      ]
     },
     "execution_count": 94,
     "metadata": {},
     "output_type": "execute_result"
    }
   ],
   "source": [
    "'''\n",
    "We see that the values of the features in the train set go from -2,68 to 4.40 which is good!\n",
    "It will help us developp our ML model\n",
    "'''"
   ]
  },
  {
   "cell_type": "code",
   "execution_count": 95,
   "metadata": {
    "id": "hCyq-TIbIHG2"
   },
   "outputs": [],
   "source": [
    "# Model Creation\n",
    "\n",
    "# LogisticRegression(): creates a classification model based on logistic regression\n",
    "# It will learn to predict y_train based on x_train_scaled\n",
    "# fit(): trains the model on the training data (X_train_scaled, y_train)\n",
    "# It adjusts the coefficients (weights) to find the best decision boundary between classes\n",
    "model = LogisticRegression().fit(X_train_scaled, y_train)"
   ]
  },
  {
   "cell_type": "code",
   "execution_count": 96,
   "metadata": {},
   "outputs": [
    {
     "data": {
      "text/plain": [
       "\"\\nWhy logistic regression?\\n- It's a simple and effective model for classification problems.\\n- It works well on standardized data, hence the importance of the StandardScaler.\\n- It provides probabilities, which allows us to analyze the confidence of each prediction.\\n\\n\""
      ]
     },
     "execution_count": 96,
     "metadata": {},
     "output_type": "execute_result"
    }
   ],
   "source": [
    "'''\n",
    "Why logistic regression?\n",
    "- It's a simple and effective model for classification problems.\n",
    "- It works well on standardized data, hence the importance of the StandardScaler.\n",
    "- It provides probabilities, which allows us to analyze the confidence of each prediction.\n",
    "\n",
    "'''"
   ]
  },
  {
   "cell_type": "code",
   "execution_count": 97,
   "metadata": {
    "id": "pBHdHe7_Ia0z"
   },
   "outputs": [],
   "source": [
    "# Predictions\n",
    "\n",
    "# We apply the same transformation as for X_train, this time on X_test\n",
    "# Caution: We use transform() and not fit_transform(), because we must apply the same parameters (mean and standard deviation learned on X_train)\n",
    "X_test_scaled = scaler.transform(X_test)\n",
    "\n",
    "# predict(): uses the trained model to predict the classes of X_test_scaled\n",
    "# predictions: contains an array of predicted classes (the values of y_test estimated by the model)\n",
    "predictions = model.predict(X_test_scaled)"
   ]
  },
  {
   "cell_type": "code",
   "execution_count": 98,
   "metadata": {
    "colab": {
     "base_uri": "https://localhost:8080/"
    },
    "id": "9vXMeQlmIu7C",
    "outputId": "c21e518f-0b30-45ce-c9fa-2a7ec6ff67c5"
   },
   "outputs": [
    {
     "data": {
      "text/plain": [
       "0.45075757575757575"
      ]
     },
     "execution_count": 98,
     "metadata": {},
     "output_type": "execute_result"
    }
   ],
   "source": [
    "# Accuracy (accuracy_score)\n",
    "\n",
    "# y_true=y_test: the true classes\n",
    "# y_pred=predictions: the classes predicted by the model\n",
    "# accuracy_score(): calculates the percentage of correct predictions\n",
    "# This code measures the accuracy of the model by comparing the actual values (y_test) to the predicted values (predictions)\n",
    "accuracy_score(y_true=y_test, y_pred=predictions)"
   ]
  },
  {
   "cell_type": "code",
   "execution_count": 181,
   "metadata": {
    "id": "Q0T8PK-XOoU5"
   },
   "outputs": [
    {
     "data": {
      "text/plain": [
       "\"\\nSo this model can predict the answer 45% of the time\\nThis model is less efficient than the model developed using the variables 'Weight', 'FCVC', 'Height', 'CAEC' & 'CALC'\\n(Height & Weight make the job easier)\\n\""
      ]
     },
     "execution_count": 181,
     "metadata": {},
     "output_type": "execute_result"
    }
   ],
   "source": [
    "'''\n",
    "So this model can predict the answer 45% of the time\n",
    "This model is less efficient than the model developed using the variables 'Weight', 'FCVC', 'Height', 'CAEC' & 'CALC'\n",
    "(Height & Weight make the job easier)\n",
    "'''"
   ]
  },
  {
   "cell_type": "code",
   "execution_count": null,
   "metadata": {},
   "outputs": [],
   "source": []
  }
 ],
 "metadata": {
  "colab": {
   "provenance": []
  },
  "kernelspec": {
   "display_name": "Python [conda env:base] *",
   "language": "python",
   "name": "conda-base-py"
  },
  "language_info": {
   "codemirror_mode": {
    "name": "ipython",
    "version": 3
   },
   "file_extension": ".py",
   "mimetype": "text/x-python",
   "name": "python",
   "nbconvert_exporter": "python",
   "pygments_lexer": "ipython3",
   "version": "3.12.7"
  }
 },
 "nbformat": 4,
 "nbformat_minor": 4
}
